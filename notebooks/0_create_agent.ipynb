{
  "cells": [
    {
      "cell_type": "markdown",
      "id": "8b7114f7-abee-4b4f-a9bf-fbd7ac553357",
      "metadata": {
        "id": "8b7114f7-abee-4b4f-a9bf-fbd7ac553357"
      },
      "source": [
        "**Load environmental variables**: See \"Getting setup\" in the first modele.  `dotenv` [docs](https://pypi.org/project/python-dotenv/) will look for `../.env`. If it finds it, it will load environmental variables from there, overriding any variables in the current shell. If it is not found, variables currently in the shell are used."
      ]
    },
    {
      "cell_type": "code",
      "execution_count": 4,
      "id": "38cb48f0",
      "metadata": {
        "colab": {
          "base_uri": "https://localhost:8080/"
        },
        "id": "38cb48f0",
        "outputId": "ad1e1e1e-c9e8-47fa-b3c0-063adaed55ed"
      },
      "outputs": [
        {
          "output_type": "execute_result",
          "data": {
            "text/plain": [
              "False"
            ]
          },
          "metadata": {},
          "execution_count": 4
        }
      ],
      "source": [
        "import os\n",
        "\n",
        "from dotenv import load_dotenv\n",
        "\n",
        "load_dotenv(os.path.join(\"..\", \".env\"), override=True)\n",
        "\n",
        "# automatically reload all modules before executing new code. The captures changes in local packages.\n",
        "# %load_ext autoreload\n",
        "# %autoreload 2"
      ]
    },
    {
      "cell_type": "markdown",
      "id": "09dd8911",
      "metadata": {
        "vscode": {
          "languageId": "plaintext"
        },
        "id": "09dd8911"
      },
      "source": [
        "## Create React Agent  - Prebuilt\n",
        "\n",
        "<img src=\"https://github.com/langchain-ai/deep-agents-from-scratch/blob/main/notebooks/assets/agent_header.png?raw=1\" width=\"800\" style=\"display:block; margin-left:0;\">\n",
        "\n",
        "In this course, you're going to build a [Deep Agent](https://blog.langchain.com/deep-agents/). We'll build this on top of LangGraph's 'pre-built' agent abstraction, which simplifies the code significantly. In this lesson, you'll learn about the pre-built ReAct agent. Here's what you will learn:\n",
        "- What is a ReAct Agent\n",
        "- The capabilities of our implementation and where to find out more.\n",
        "    - Build an agent with tools\n",
        "    - The graph, state and messages\n",
        "    - Access and modify state with tools\n",
        "    - <span style=\"font-size:0.8em;\">🪝</span> hooks! and structured responses\n"
      ]
    },
    {
      "cell_type": "markdown",
      "id": "b96d31dc-3ffb-4afb-85ef-5e10f9a85f24",
      "metadata": {
        "id": "b96d31dc-3ffb-4afb-85ef-5e10f9a85f24"
      },
      "source": [
        "### What is a ReAct agent\n",
        "\n",
        "\n",
        "<img src=\"https://github.com/langchain-ai/deep-agents-from-scratch/blob/main/notebooks/assets/agent.png?raw=1\"\n",
        "     style=\"float:left; max-width:300px; height:auto; margin:0 1rem 0.5rem 0;\">\n",
        "<div style=\"max-width: 1250px;\">\n",
        "    \n",
        "You will be using LangGraph's open-source `create_react_agent` ([see here](https://langchain-ai.github.io/langgraph/reference/agents/#langgraph.prebuilt.chat_agent_executor.create_react_agent)) abstraction. A **ReAct agent** is an AI agent that uses the \"Reasoning and Acting\" (ReAct) framework to combine chain-of-thought (CoT) reasoning with external tool use. It was made popular by the paper [ReAct: Synergizing Reasoning and Acting in Language Models](https://arxiv.org/abs/2210.03629).\n",
        "\n",
        "This agent consists of three components: a large language model (LLM), a set of tools it can use, and a prompt that provides instructions.\n",
        "\n",
        "The LLM operates in a loop. In each iteration, it examines its context, which includes a list of available tools; It decides if it needs to call a tool. It selects a tool to invoke, forms the tool call. This is sent to a tool node for execution. The tool node executes the tool(s), and sends the results (observations) back to the LLM. The LLM receives the observations(s) and uses that observation to inform the next action. The loop continues until a stopping condition is met — typically when the agent decides it no longer needs to call more tools.\n",
        "</div>\n",
        "\n",
        "<div style=\"clear:both;\"></div>\n",
        "\n",
        ">  Note: The `create_react_agent` is moving in the soon-to-be-released V1! It will be in LangChain and the name changed to simple `create_agent`."
      ]
    },
    {
      "cell_type": "markdown",
      "id": "038dca59",
      "metadata": {
        "id": "038dca59"
      },
      "source": [
        "### Key capabilities of LangGraph pre-built `create_react_agent`\n",
        "\n",
        "Here are some of the features that come with the `create_react_agent` abstraction. We won't make use of them all in this course, but it does motivate the use of `create_react_agent` to build our course(learn more [here](https://langchain-ai.github.io/langgraph/agents/overview/#what-is-an-agent)):\n",
        "\n",
        "- [Memory integration](../how-tos/memory/add-memory.md): Native support for _short-term_ (session-based) and _long-term_ (persistent across sessions) memory, enabling stateful behaviors in chatbots and assistants.\n",
        "- [Human-in-the-loop control](../concepts/human_in_the_loop.md): Execution can pause _indefinitely_ to await human feedback—unlike websocket-based solutions limited to real-time interaction. This enables asynchronous approval, correction, or intervention at any point in the workflow.\n",
        "- [Streaming support](../how-tos/streaming.md): Real-time streaming of agent state, model tokens, tool outputs, or combined streams.\n",
        "- [Deployment tooling](../tutorials/langgraph-platform/local-server.md): Includes infrastructure-free deployment tools. [**LangGraph Platform**](https://langchain-ai.github.io/langgraph/concepts/langgraph_platform/) supports testing, debugging, and deployment.\n",
        "  - [Studio](https://langchain-ai.github.io/langgraph/concepts/langgraph_studio/): A visual IDE for inspecting and debugging workflows.\n",
        "  - [LangSmith](https://smith.langchain.com/): A tracing and evaluation tool.\n",
        "  - Supports multiple [deployment options](https://langchain-ai.github.io/langgraph/concepts/deployment_options.md) for production.\n",
        "\n",
        "`create-react-agent` is quite sophisticated, accepting many input formats, allowing lots of customization. It can be a simple agent-tool loop, or can add customized with pre/post-hooks and/or structured outputs.\n",
        "\n",
        "<div style=\"display:flex; justify-content:center; align-items:flex-end; gap:40px;\">\n",
        "\n",
        "  <figure style=\"margin:0; text-align:center; width:250px;\">\n",
        "    <img src=\"https://github.com/langchain-ai/deep-agents-from-scratch/blob/main/notebooks/assets/simple_agent.png?raw=1\" style=\"max-height:350px; width:auto; display:block; margin:0 auto;\">  \n",
        "    <figcaption style=\"font-weight:bold; font-size:1.1em; margin-top:8px;\">simple agent</figcaption>\n",
        "  </figure>\n",
        "\n",
        "  <figure style=\"margin:0; text-align:center; width:250px;\">\n",
        "    <img src=\"https://github.com/langchain-ai/deep-agents-from-scratch/blob/main/notebooks/assets/complex_agent.png?raw=1\" style=\"max-height:350px; width:auto; display:block; margin:0 auto;\">  \n",
        "    <figcaption style=\"font-weight:bold; font-size:1.1em; margin-top:8px;\">complex agent</figcaption>\n",
        "  </figure>\n",
        "\n",
        "</div>\n",
        "</div>\n",
        "<br>\n",
        "\n",
        "In this course, you will use the simple format - though you will add sub-agents <span style=\"font-size:20px;\">🤖 🤖 🤖</span> later in the course!   \n",
        "\n",
        "  "
      ]
    },
    {
      "cell_type": "markdown",
      "id": "ee33aed8-3c03-4fe3-b2ba-ae448ad86111",
      "metadata": {
        "id": "ee33aed8-3c03-4fe3-b2ba-ae448ad86111"
      },
      "source": [
        "#### Build an agent with tools\n",
        "\n",
        "Let's start by creating an agent with a simple calculator tool to get started. Once you see how things are put together, we'll go over more details.\n"
      ]
    },
    {
      "cell_type": "code",
      "execution_count": 1,
      "id": "77dbbaf1-a3d2-4094-80c6-55dbb1632f21",
      "metadata": {
        "id": "77dbbaf1-a3d2-4094-80c6-55dbb1632f21"
      },
      "outputs": [],
      "source": [
        "from typing import Annotated, List, Literal, Union\n",
        "\n",
        "from langchain_core.messages import ToolMessage\n",
        "from langchain_core.tools import InjectedToolCallId, tool\n",
        "from langgraph.prebuilt import InjectedState\n",
        "from langgraph.types import Command\n",
        "\n",
        "\n",
        "@tool\n",
        "def calculator(\n",
        "    operation: Literal[\"add\",\"subtract\",\"multiply\",\"divide\"],\n",
        "    a: Union[int, float],\n",
        "    b: Union[int, float],\n",
        ") -> Union[int, float]:\n",
        "    \"\"\"Define a two-input calculator tool.\n",
        "\n",
        "    Arg:\n",
        "        operation (str): The operation to perform ('add', 'subtract', 'multiply', 'divide').\n",
        "        a (float or int): The first number.\n",
        "        b (float or int): The second number.\n",
        "\n",
        "    Returns:\n",
        "        result (float or int): the result of the operation\n",
        "    Example\n",
        "        Divide: result   = a / b\n",
        "        Subtract: result = a - b\n",
        "    \"\"\"\n",
        "    if operation == 'divide' and b == 0:\n",
        "        return {\"error\": \"Division by zero is not allowed.\"}\n",
        "\n",
        "    # Perform calculation\n",
        "    if operation == 'add':\n",
        "        result = a + b\n",
        "    elif operation == 'subtract':\n",
        "        result = a - b\n",
        "    elif operation == 'multiply':\n",
        "        result = a * b\n",
        "    elif operation == 'divide':\n",
        "        result = a / b\n",
        "    else:\n",
        "        result = \"unknown operation\"\n",
        "    return result\n"
      ]
    },
    {
      "cell_type": "code",
      "execution_count": 25,
      "id": "95c0fc53",
      "metadata": {
        "colab": {
          "base_uri": "https://localhost:8080/",
          "height": 383
        },
        "id": "95c0fc53",
        "outputId": "3a660dda-d3b1-4b33-ed7c-904b96085de3"
      },
      "outputs": [
        {
          "output_type": "error",
          "ename": "ImportError",
          "evalue": "cannot import name 'format_messages' from 'utils' (/usr/local/lib/python3.12/dist-packages/utils/__init__.py)",
          "traceback": [
            "\u001b[0;31m---------------------------------------------------------------------------\u001b[0m",
            "\u001b[0;31mImportError\u001b[0m                               Traceback (most recent call last)",
            "\u001b[0;32m/tmp/ipython-input-2580612570.py\u001b[0m in \u001b[0;36m<cell line: 0>\u001b[0;34m()\u001b[0m\n\u001b[1;32m      3\u001b[0m \u001b[0;32mfrom\u001b[0m \u001b[0mlangchain_core\u001b[0m\u001b[0;34m.\u001b[0m\u001b[0mtools\u001b[0m \u001b[0;32mimport\u001b[0m \u001b[0mtool\u001b[0m\u001b[0;34m\u001b[0m\u001b[0;34m\u001b[0m\u001b[0m\n\u001b[1;32m      4\u001b[0m \u001b[0;32mfrom\u001b[0m \u001b[0mlanggraph\u001b[0m\u001b[0;34m.\u001b[0m\u001b[0mprebuilt\u001b[0m \u001b[0;32mimport\u001b[0m \u001b[0mcreate_react_agent\u001b[0m\u001b[0;34m\u001b[0m\u001b[0;34m\u001b[0m\u001b[0m\n\u001b[0;32m----> 5\u001b[0;31m \u001b[0;32mfrom\u001b[0m \u001b[0mutils\u001b[0m \u001b[0;32mimport\u001b[0m \u001b[0mformat_messages\u001b[0m \u001b[0;31m# Removed import\u001b[0m\u001b[0;34m\u001b[0m\u001b[0;34m\u001b[0m\u001b[0m\n\u001b[0m\u001b[1;32m      6\u001b[0m \u001b[0;34m\u001b[0m\u001b[0m\n\u001b[1;32m      7\u001b[0m \u001b[0;31m# Create agent using create_react_agent directly\u001b[0m\u001b[0;34m\u001b[0m\u001b[0;34m\u001b[0m\u001b[0m\n",
            "\u001b[0;31mImportError\u001b[0m: cannot import name 'format_messages' from 'utils' (/usr/local/lib/python3.12/dist-packages/utils/__init__.py)",
            "",
            "\u001b[0;31m---------------------------------------------------------------------------\u001b[0;32m\nNOTE: If your import is failing due to a missing package, you can\nmanually install dependencies using either !pip or !apt.\n\nTo view examples of installing some common dependencies, click the\n\"Open Examples\" button below.\n\u001b[0;31m---------------------------------------------------------------------------\u001b[0m\n"
          ],
          "errorDetails": {
            "actions": [
              {
                "action": "open_url",
                "actionText": "Open Examples",
                "url": "/notebooks/snippets/importing_libraries.ipynb"
              }
            ]
          }
        }
      ],
      "source": [
        "from IPython.display import Image, display\n",
        "from langchain_google_genai import ChatGoogleGenerativeAI\n",
        "from langchain_core.tools import tool\n",
        "from langgraph.prebuilt import create_react_agent\n",
        "from utils import format_messages # Removed import\n",
        "\n",
        "# Create agent using create_react_agent directly\n",
        "from google.colab import userdata\n",
        "import os\n",
        "\n",
        "# Access the API key from Colab secrets\n",
        "GOOGLE_API_KEY = userdata.get('GOOGLE_API_KEY')\n",
        "os.environ['GOOGLE_API_KEY'] = GOOGLE_API_KEY\n",
        "\n",
        "\n",
        "SYSTEM_PROMPT = \"You are a helpful arithmetic assistant who is an expert at using a calculator.\"\n",
        "\n",
        "model = ChatGoogleGenerativeAI(model=\"gemini-flash-latest\", temperature=0.0)\n",
        "tools = [calculator]\n",
        "\n",
        "# Create agent\n",
        "agent = create_react_agent(\n",
        "    model,\n",
        "    tools,\n",
        "    prompt=SYSTEM_PROMPT,\n",
        "    #state_schema=AgentState,  # default\n",
        ").with_config({\"recursion_limit\": 20})  #recursion_limit limits the number of steps the agent will run\n",
        "\n",
        "# Show the agent\n",
        "display(Image(agent.get_graph(xray=True).draw_mermaid_png()))"
      ]
    },
    {
      "cell_type": "code",
      "execution_count": 6,
      "id": "6e2aa0ee-0e6b-49ac-9085-39f5f50969ba",
      "metadata": {
        "colab": {
          "base_uri": "https://localhost:8080/",
          "height": 203
        },
        "id": "6e2aa0ee-0e6b-49ac-9085-39f5f50969ba",
        "outputId": "66530c76-812d-43ce-a37e-d88791c58c53"
      },
      "outputs": [
        {
          "output_type": "execute_result",
          "data": {
            "text/plain": [
              "langgraph.graph.state.CompiledStateGraph"
            ],
            "text/html": [
              "<div style=\"max-width:800px; border: 1px solid var(--colab-border-color);\"><style>\n",
              "      pre.function-repr-contents {\n",
              "        overflow-x: auto;\n",
              "        padding: 8px 12px;\n",
              "        max-height: 500px;\n",
              "      }\n",
              "\n",
              "      pre.function-repr-contents.function-repr-contents-collapsed {\n",
              "        cursor: pointer;\n",
              "        max-height: 100px;\n",
              "      }\n",
              "    </style>\n",
              "    <pre style=\"white-space: initial; background:\n",
              "         var(--colab-secondary-surface-color); padding: 8px 12px;\n",
              "         border-bottom: 1px solid var(--colab-border-color);\"><b>langgraph.graph.state.CompiledStateGraph</b><br/>def __init__(*, builder: StateGraph[StateT, ContextT, InputT, OutputT], schema_to_mapper: dict[type[Any], Callable[[Any], Any] | None], **kwargs: Any) -&gt; None</pre><pre class=\"function-repr-contents function-repr-contents-collapsed\" style=\"\"><a class=\"filepath\" style=\"display:none\" href=\"#\">/usr/local/lib/python3.12/dist-packages/langgraph/graph/state.py</a>Pregel manages the runtime behavior for LangGraph applications.\n",
              "\n",
              "## Overview\n",
              "\n",
              "Pregel combines [**actors**](https://en.wikipedia.org/wiki/Actor_model)\n",
              "and **channels** into a single application.\n",
              "**Actors** read data from channels and write data to channels.\n",
              "Pregel organizes the execution of the application into multiple steps,\n",
              "following the **Pregel Algorithm**/**Bulk Synchronous Parallel** model.\n",
              "\n",
              "Each step consists of three phases:\n",
              "\n",
              "- **Plan**: Determine which **actors** to execute in this step. For example,\n",
              "    in the first step, select the **actors** that subscribe to the special\n",
              "    **input** channels; in subsequent steps,\n",
              "    select the **actors** that subscribe to channels updated in the previous step.\n",
              "- **Execution**: Execute all selected **actors** in parallel,\n",
              "    until all complete, or one fails, or a timeout is reached. During this\n",
              "    phase, channel updates are invisible to actors until the next step.\n",
              "- **Update**: Update the channels with the values written by the **actors**\n",
              "    in this step.\n",
              "\n",
              "Repeat until no **actors** are selected for execution, or a maximum number of\n",
              "steps is reached.\n",
              "\n",
              "## Actors\n",
              "\n",
              "An **actor** is a `PregelNode`.\n",
              "It subscribes to channels, reads data from them, and writes data to them.\n",
              "It can be thought of as an **actor** in the Pregel algorithm.\n",
              "`PregelNodes` implement LangChain&#x27;s\n",
              "Runnable interface.\n",
              "\n",
              "## Channels\n",
              "\n",
              "Channels are used to communicate between actors (`PregelNodes`).\n",
              "Each channel has a value type, an update type, and an update function – which\n",
              "takes a sequence of updates and\n",
              "modifies the stored value. Channels can be used to send data from one chain to\n",
              "another, or to send data from a chain to itself in a future step. LangGraph\n",
              "provides a number of built-in channels:\n",
              "\n",
              "### Basic channels: LastValue and Topic\n",
              "\n",
              "- `LastValue`: The default channel, stores the last value sent to the channel,\n",
              "   useful for input and output values, or for sending data from one step to the next\n",
              "- `Topic`: A configurable PubSub Topic, useful for sending multiple values\n",
              "   between *actors*, or for accumulating output. Can be configured to deduplicate\n",
              "   values, and/or to accumulate values over the course of multiple steps.\n",
              "\n",
              "### Advanced channels: Context and BinaryOperatorAggregate\n",
              "\n",
              "- `Context`: exposes the value of a context manager, managing its lifecycle.\n",
              "  Useful for accessing external resources that require setup and/or teardown. eg.\n",
              "  `client = Context(httpx.Client)`\n",
              "- `BinaryOperatorAggregate`: stores a persistent value, updated by applying\n",
              "   a binary operator to the current value and each update\n",
              "   sent to the channel, useful for computing aggregates over multiple steps. eg.\n",
              "  `total = BinaryOperatorAggregate(int, operator.add)`\n",
              "\n",
              "## Examples\n",
              "\n",
              "Most users will interact with Pregel via a\n",
              "[StateGraph (Graph API)][langgraph.graph.StateGraph] or via an\n",
              "[entrypoint (Functional API)][langgraph.func.entrypoint].\n",
              "\n",
              "However, for **advanced** use cases, Pregel can be used directly. If you&#x27;re\n",
              "not sure whether you need to use Pregel directly, then the answer is probably no\n",
              "- you should use the Graph API or Functional API instead. These are higher-level\n",
              "interfaces that will compile down to Pregel under the hood.\n",
              "\n",
              "Here are some examples to give you a sense of how it works:\n",
              "\n",
              "Example: Single node application\n",
              "    ```python\n",
              "    from langgraph.channels import EphemeralValue\n",
              "    from langgraph.pregel import Pregel, NodeBuilder\n",
              "\n",
              "    node1 = (\n",
              "        NodeBuilder().subscribe_only(&quot;a&quot;)\n",
              "        .do(lambda x: x + x)\n",
              "        .write_to(&quot;b&quot;)\n",
              "    )\n",
              "\n",
              "    app = Pregel(\n",
              "        nodes={&quot;node1&quot;: node1},\n",
              "        channels={\n",
              "            &quot;a&quot;: EphemeralValue(str),\n",
              "            &quot;b&quot;: EphemeralValue(str),\n",
              "        },\n",
              "        input_channels=[&quot;a&quot;],\n",
              "        output_channels=[&quot;b&quot;],\n",
              "    )\n",
              "\n",
              "    app.invoke({&quot;a&quot;: &quot;foo&quot;})\n",
              "    ```\n",
              "\n",
              "    ```con\n",
              "    {&#x27;b&#x27;: &#x27;foofoo&#x27;}\n",
              "    ```\n",
              "\n",
              "Example: Using multiple nodes and multiple output channels\n",
              "    ```python\n",
              "    from langgraph.channels import LastValue, EphemeralValue\n",
              "    from langgraph.pregel import Pregel, NodeBuilder\n",
              "\n",
              "    node1 = (\n",
              "        NodeBuilder().subscribe_only(&quot;a&quot;)\n",
              "        .do(lambda x: x + x)\n",
              "        .write_to(&quot;b&quot;)\n",
              "    )\n",
              "\n",
              "    node2 = (\n",
              "        NodeBuilder().subscribe_to(&quot;b&quot;)\n",
              "        .do(lambda x: x[&quot;b&quot;] + x[&quot;b&quot;])\n",
              "        .write_to(&quot;c&quot;)\n",
              "    )\n",
              "\n",
              "\n",
              "    app = Pregel(\n",
              "        nodes={&quot;node1&quot;: node1, &quot;node2&quot;: node2},\n",
              "        channels={\n",
              "            &quot;a&quot;: EphemeralValue(str),\n",
              "            &quot;b&quot;: LastValue(str),\n",
              "            &quot;c&quot;: EphemeralValue(str),\n",
              "        },\n",
              "        input_channels=[&quot;a&quot;],\n",
              "        output_channels=[&quot;b&quot;, &quot;c&quot;],\n",
              "    )\n",
              "\n",
              "    app.invoke({&quot;a&quot;: &quot;foo&quot;})\n",
              "    ```\n",
              "\n",
              "    ```con\n",
              "    {&#x27;b&#x27;: &#x27;foofoo&#x27;, &#x27;c&#x27;: &#x27;foofoofoofoo&#x27;}\n",
              "    ```\n",
              "\n",
              "Example: Using a Topic channel\n",
              "    ```python\n",
              "    from langgraph.channels import LastValue, EphemeralValue, Topic\n",
              "    from langgraph.pregel import Pregel, NodeBuilder\n",
              "\n",
              "    node1 = (\n",
              "        NodeBuilder().subscribe_only(&quot;a&quot;)\n",
              "        .do(lambda x: x + x)\n",
              "        .write_to(&quot;b&quot;, &quot;c&quot;)\n",
              "    )\n",
              "\n",
              "    node2 = (\n",
              "        NodeBuilder().subscribe_only(&quot;b&quot;)\n",
              "        .do(lambda x: x + x)\n",
              "        .write_to(&quot;c&quot;)\n",
              "    )\n",
              "\n",
              "\n",
              "    app = Pregel(\n",
              "        nodes={&quot;node1&quot;: node1, &quot;node2&quot;: node2},\n",
              "        channels={\n",
              "            &quot;a&quot;: EphemeralValue(str),\n",
              "            &quot;b&quot;: EphemeralValue(str),\n",
              "            &quot;c&quot;: Topic(str, accumulate=True),\n",
              "        },\n",
              "        input_channels=[&quot;a&quot;],\n",
              "        output_channels=[&quot;c&quot;],\n",
              "    )\n",
              "\n",
              "    app.invoke({&quot;a&quot;: &quot;foo&quot;})\n",
              "    ```\n",
              "\n",
              "    ```pycon\n",
              "    {&quot;c&quot;: [&quot;foofoo&quot;, &quot;foofoofoofoo&quot;]}\n",
              "    ```\n",
              "\n",
              "Example: Using a BinaryOperatorAggregate channel\n",
              "    ```python\n",
              "    from langgraph.channels import EphemeralValue, BinaryOperatorAggregate\n",
              "    from langgraph.pregel import Pregel, NodeBuilder\n",
              "\n",
              "\n",
              "    node1 = (\n",
              "        NodeBuilder().subscribe_only(&quot;a&quot;)\n",
              "        .do(lambda x: x + x)\n",
              "        .write_to(&quot;b&quot;, &quot;c&quot;)\n",
              "    )\n",
              "\n",
              "    node2 = (\n",
              "        NodeBuilder().subscribe_only(&quot;b&quot;)\n",
              "        .do(lambda x: x + x)\n",
              "        .write_to(&quot;c&quot;)\n",
              "    )\n",
              "\n",
              "\n",
              "    def reducer(current, update):\n",
              "        if current:\n",
              "            return current + &quot; | &quot; + update\n",
              "        else:\n",
              "            return update\n",
              "\n",
              "\n",
              "    app = Pregel(\n",
              "        nodes={&quot;node1&quot;: node1, &quot;node2&quot;: node2},\n",
              "        channels={\n",
              "            &quot;a&quot;: EphemeralValue(str),\n",
              "            &quot;b&quot;: EphemeralValue(str),\n",
              "            &quot;c&quot;: BinaryOperatorAggregate(str, operator=reducer),\n",
              "        },\n",
              "        input_channels=[&quot;a&quot;],\n",
              "        output_channels=[&quot;c&quot;],\n",
              "    )\n",
              "\n",
              "    app.invoke({&quot;a&quot;: &quot;foo&quot;})\n",
              "    ```\n",
              "\n",
              "    ```con\n",
              "    {&#x27;c&#x27;: &#x27;foofoo | foofoofoofoo&#x27;}\n",
              "    ```\n",
              "\n",
              "Example: Introducing a cycle\n",
              "    This example demonstrates how to introduce a cycle in the graph, by having\n",
              "    a chain write to a channel it subscribes to. Execution will continue\n",
              "    until a None value is written to the channel.\n",
              "\n",
              "    ```python\n",
              "    from langgraph.channels import EphemeralValue\n",
              "    from langgraph.pregel import Pregel, NodeBuilder, ChannelWriteEntry\n",
              "\n",
              "    example_node = (\n",
              "        NodeBuilder()\n",
              "        .subscribe_only(&quot;value&quot;)\n",
              "        .do(lambda x: x + x if len(x) &lt; 10 else None)\n",
              "        .write_to(ChannelWriteEntry(channel=&quot;value&quot;, skip_none=True))\n",
              "    )\n",
              "\n",
              "    app = Pregel(\n",
              "        nodes={&quot;example_node&quot;: example_node},\n",
              "        channels={\n",
              "            &quot;value&quot;: EphemeralValue(str),\n",
              "        },\n",
              "        input_channels=[&quot;value&quot;],\n",
              "        output_channels=[&quot;value&quot;],\n",
              "    )\n",
              "\n",
              "    app.invoke({&quot;value&quot;: &quot;a&quot;})\n",
              "    ```\n",
              "\n",
              "    ```con\n",
              "    {&#x27;value&#x27;: &#x27;aaaaaaaaaaaaaaaa&#x27;}\n",
              "    ```</pre>\n",
              "      <script>\n",
              "      if (google.colab.kernel.accessAllowed && google.colab.files && google.colab.files.view) {\n",
              "        for (const element of document.querySelectorAll('.filepath')) {\n",
              "          element.style.display = 'block'\n",
              "          element.onclick = (event) => {\n",
              "            event.preventDefault();\n",
              "            event.stopPropagation();\n",
              "            google.colab.files.view(element.textContent, 904);\n",
              "          };\n",
              "        }\n",
              "      }\n",
              "      for (const element of document.querySelectorAll('.function-repr-contents')) {\n",
              "        element.onclick = (event) => {\n",
              "          event.preventDefault();\n",
              "          event.stopPropagation();\n",
              "          element.classList.toggle('function-repr-contents-collapsed');\n",
              "        };\n",
              "      }\n",
              "      </script>\n",
              "      </div>"
            ]
          },
          "metadata": {},
          "execution_count": 6
        }
      ],
      "source": [
        "# create_react_agent returns a compiled graph\n",
        "type(agent)"
      ]
    },
    {
      "cell_type": "markdown",
      "id": "abf73e64-eb00-4d13-89cb-5857e4861f34",
      "metadata": {
        "id": "abf73e64-eb00-4d13-89cb-5857e4861f34"
      },
      "source": [
        "###  The graph, state and messages\n",
        "You'll run the agent in a moment, but let's dig into the graph a little bit.\n",
        "You can examine the code that implements `create_react_agent` [here](https://github.com/langchain-ai/langgraph/blob/c37c9cbab3287f0988fabe2b853569a23960e3db/libs/prebuilt/langgraph/prebuilt/chat_agent_executor.py) if you would like to see the details.  If you would like to try building a simple version of this yourself, you can check out [Foundation: Introduction to LangGraph, Module 1, Lesson 6, Agent](https://academy.langchain.com/courses/take/intro-to-langgraph/lessons/58239232-lesson-6-agent).\n",
        "\n",
        "**Defining the Agent**: When you define an agent as you did above, you provide: the model, one or more tools, a \"system\" prompt, and state schema which defaults to <a href=\"https://github.com/langchain-ai/langgraph/blob/e365b2b8bd695e03d758b19ff109152b2e342a87/libs/prebuilt/langgraph/prebuilt/chat_agent_executor.py#L62-L69\">\n",
        "  <code style=\"color:#0366d6;\">AgentState</code>\n",
        "</a> which is primarily a list of messages. ([Call details here.](https://langchain-ai.github.io/langgraph/reference/agents/#langgraph.prebuilt.chat_agent_executor.create_react_agent))\n",
        "Under the hood, this is defining and compiling the LangGraph graph shown above. An important detail is that the tools node is another pre-built item, a `ToolNode`, described [here](https://github.com/langchain-ai/langgraph/blob/e365b2b8bd695e03d758b19ff109152b2e342a87/libs/prebuilt/langgraph/prebuilt/tool_node.py#L239-L293). A tool node will run all the tools identified in the message from the LLM and return the results.\n",
        "\n",
        "**Invoking the Agent:**\n",
        "Let's call the agent and see what we get!"
      ]
    },
    {
      "cell_type": "code",
      "execution_count": 21,
      "id": "3d2648f0",
      "metadata": {
        "colab": {
          "base_uri": "https://localhost:8080/",
          "height": 225
        },
        "id": "3d2648f0",
        "outputId": "2c196fc3-9bf0-454e-a8a9-468d429b03c2"
      },
      "outputs": [
        {
          "output_type": "display_data",
          "data": {
            "text/plain": [
              "{'messages': [HumanMessage(content='What is 3.1 * 4.2?', additional_kwargs={}, response_metadata={}, id='e4b125c1-3114-4a09-94ea-944cbbdab9dd'),\n",
              "  AIMessage(content='', additional_kwargs={'function_call': {'name': 'calculator', 'arguments': '{\"operation\": \"multiply\", \"a\": 3.1, \"b\": 4.2}'}}, response_metadata={'prompt_feedback': {'block_reason': 0, 'safety_ratings': []}, 'finish_reason': 'STOP', 'safety_ratings': []}, id='run--0ace3b2d-8fc8-456a-8e3c-9255bfaef337-0', tool_calls=[{'name': 'calculator', 'args': {'operation': 'multiply', 'a': 3.1, 'b': 4.2}, 'id': '5d798a8a-8d22-493e-9950-a383d8d353ef', 'type': 'tool_call'}], usage_metadata={'input_tokens': 188, 'output_tokens': 31, 'total_tokens': 219, 'input_token_details': {'cache_read': 0}}),\n",
              "  ToolMessage(content='13.020000000000001', name='calculator', id='a331ba8d-db71-49f4-b18e-46546df2aaeb', tool_call_id='5d798a8a-8d22-493e-9950-a383d8d353ef'),\n",
              "  AIMessage(content='3.1 multiplied by 4.2 is 13.02.', additional_kwargs={}, response_metadata={'prompt_feedback': {'block_reason': 0, 'safety_ratings': []}, 'finish_reason': 'STOP', 'safety_ratings': []}, id='run--2473684a-f621-4057-b093-25030c92421f-0', usage_metadata={'input_tokens': 245, 'output_tokens': 17, 'total_tokens': 262, 'input_token_details': {'cache_read': 0}})]}"
            ]
          },
          "metadata": {}
        }
      ],
      "source": [
        "# Example usage\n",
        "result1 = agent.invoke(\n",
        "    {\n",
        "        \"messages\": [\n",
        "            {\n",
        "                \"role\": \"user\",\n",
        "                \"content\": \"What is 3.1 * 4.2?\",\n",
        "            }\n",
        "        ],\n",
        "    }\n",
        ")\n",
        "\n",
        "# format_messages(result1[\"messages\"]) # Removed call\n",
        "display(result1)"
      ]
    },
    {
      "cell_type": "markdown",
      "id": "8b437e65-8b4f-48ec-9ab5-b988fe6b536d",
      "metadata": {
        "id": "8b437e65-8b4f-48ec-9ab5-b988fe6b536d"
      },
      "source": [
        "**Invoking the Agent:**\n",
        "A sequence diagram is a great way to look at what happens when the model is invoked.\n",
        "\n",
        "<div style=\"display:none\">\n",
        "    the mermaid code is saved here for future\n",
        "```mermaid\n",
        "sequenceDiagram\n",
        "    participant U as User\n",
        "    participant A as LLM\n",
        "    participant T as Tools\n",
        "    Note over A: System message<br/>\"You are a helpful assistant...\"\n",
        "    U->>A: Initial input,<br/>\"What is 3.1 * 4.2?\"\n",
        "    loop while tool_calls present\n",
        "        A->>T: AIMessage(id=\"call_123\", tool_calls=[...])\n",
        "        T-->>A: ToolMessage(tool_call_id=\"call_123\", content=\"xx\")\n",
        "    end\n",
        "    A->>U: Return final state\n",
        "```\n",
        "</div>\n",
        "\n",
        "<img src=\"https://github.com/langchain-ai/deep-agents-from-scratch/blob/main/notebooks/assets/agent_sequence_diagram.png?raw=1\"\n",
        "     style=\"float:left; max-width:500px; height:auto; margin:0 1rem 0.5rem 0;\">\n",
        "<div style=\"max-width: 1100px;\">\n",
        "In our example, the user input is \"What is 3.1 * 4.2?\". This, combined with the system prompt and tool descriptions, is sent to the LLM.  \n",
        "<br/>\n",
        "<p style=\"margin-bottom:0; margin-top:5px;\">The LLM decides that the calculator tool should be called. <br/> It adds an `AIMessage` to `messages`:</p>\n",
        "<pre style=\"font-size:0.85em; margin-top:5px; margin-bottom:0;\">\n",
        "<code class=\"language-python\">AIMessage(\n",
        "    content=\"\",\n",
        "    tool_calls=[{\"id\": \"call_123\",\n",
        "                 \"name\": \"calculator\",\n",
        "                 \"args\": {\"a\": 3.1, \"b\": 4.2, \"operation\": \"multiply\"}}])</code></pre>   \n",
        "</code></pre>\n",
        "<br/>\n",
        "<p style=\"margin-bottom:0;\">The tool node receives the AIMessage and processes all the tool calls. It tracks the tool_call_ids. It responds with a ToolMessage in `messages`: </p>\n",
        "<pre style=\"font-size:0.85em; margin-top:5px; margin-bottom:10px;\">\n",
        "<code class=\"language-python\">ToolMessage(\n",
        "    content=\"13.02\",         # The result of the tool execution.\n",
        "    tool_call_id=\"call_123\")  # Matches the id from the AIMessage.tool_calls\n",
        "</code></pre>\n",
        "The LLM examines the response in `messages`, decides it is done, and forms an `AIMessage` to the user.\n",
        "\n",
        "</div>\n",
        "\n",
        "<div style=\"clear:both;\"></div>"
      ]
    },
    {
      "cell_type": "markdown",
      "id": "784297e4-a617-41f6-a300-9ff06598c023",
      "metadata": {
        "id": "784297e4-a617-41f6-a300-9ff06598c023"
      },
      "source": [
        "Let's look at the [trace in LangSmith](https://smith.langchain.com/public/3d2062e3-8713-4510-a797-801abe44d1f7/r). Here are some things to notice:\n",
        "- In the metadata of the call to the LLM, you will see the 'calculator' tool description.\n",
        "- The response from the model is a tool call with the arguments\n",
        "- In the final call to the LLM, notice the matching tool_call_id's provided by the tool node."
      ]
    },
    {
      "cell_type": "markdown",
      "id": "0378644e-7630-40f7-946f-00f4e5d3a912",
      "metadata": {
        "id": "0378644e-7630-40f7-946f-00f4e5d3a912"
      },
      "source": [
        "#### Try your own\n",
        "Take a moment and try this on your own. Run a query, check it in LangSmith and see if it matches your expectation. Try expanding the calculator - maybe add a square function."
      ]
    },
    {
      "cell_type": "code",
      "execution_count": 22,
      "id": "8fb3e30b-dec9-43a4-a340-6aee9370bf80",
      "metadata": {
        "colab": {
          "base_uri": "https://localhost:8080/",
          "height": 582
        },
        "id": "8fb3e30b-dec9-43a4-a340-6aee9370bf80",
        "outputId": "56053e83-b07e-440e-e4ce-1c6632385449"
      },
      "outputs": [
        {
          "output_type": "error",
          "ename": "KeyboardInterrupt",
          "evalue": "",
          "traceback": [
            "\u001b[0;31m---------------------------------------------------------------------------\u001b[0m",
            "\u001b[0;31mKeyboardInterrupt\u001b[0m                         Traceback (most recent call last)",
            "\u001b[0;32m/tmp/ipython-input-1809959764.py\u001b[0m in \u001b[0;36m<cell line: 0>\u001b[0;34m()\u001b[0m\n\u001b[1;32m      1\u001b[0m \u001b[0;31m# Try your own\u001b[0m\u001b[0;34m\u001b[0m\u001b[0;34m\u001b[0m\u001b[0m\n\u001b[0;32m----> 2\u001b[0;31m result = agent.invoke(\n\u001b[0m\u001b[1;32m      3\u001b[0m     {\n\u001b[1;32m      4\u001b[0m         \"messages\": [\n\u001b[1;32m      5\u001b[0m             {\n",
            "\u001b[0;32m/usr/local/lib/python3.12/dist-packages/langgraph/pregel/main.py\u001b[0m in \u001b[0;36minvoke\u001b[0;34m(self, input, config, context, stream_mode, print_mode, output_keys, interrupt_before, interrupt_after, durability, **kwargs)\u001b[0m\n\u001b[1;32m   3092\u001b[0m         \u001b[0minterrupts\u001b[0m\u001b[0;34m:\u001b[0m \u001b[0mlist\u001b[0m\u001b[0;34m[\u001b[0m\u001b[0mInterrupt\u001b[0m\u001b[0;34m]\u001b[0m \u001b[0;34m=\u001b[0m \u001b[0;34m[\u001b[0m\u001b[0;34m]\u001b[0m\u001b[0;34m\u001b[0m\u001b[0;34m\u001b[0m\u001b[0m\n\u001b[1;32m   3093\u001b[0m \u001b[0;34m\u001b[0m\u001b[0m\n\u001b[0;32m-> 3094\u001b[0;31m         for chunk in self.stream(\n\u001b[0m\u001b[1;32m   3095\u001b[0m             \u001b[0minput\u001b[0m\u001b[0;34m,\u001b[0m\u001b[0;34m\u001b[0m\u001b[0;34m\u001b[0m\u001b[0m\n\u001b[1;32m   3096\u001b[0m             \u001b[0mconfig\u001b[0m\u001b[0;34m,\u001b[0m\u001b[0;34m\u001b[0m\u001b[0;34m\u001b[0m\u001b[0m\n",
            "\u001b[0;32m/usr/local/lib/python3.12/dist-packages/langgraph/pregel/main.py\u001b[0m in \u001b[0;36mstream\u001b[0;34m(self, input, config, context, stream_mode, print_mode, output_keys, interrupt_before, interrupt_after, durability, subgraphs, debug, **kwargs)\u001b[0m\n\u001b[1;32m   2677\u001b[0m                     \u001b[0;32mfor\u001b[0m \u001b[0mtask\u001b[0m \u001b[0;32min\u001b[0m \u001b[0mloop\u001b[0m\u001b[0;34m.\u001b[0m\u001b[0mmatch_cached_writes\u001b[0m\u001b[0;34m(\u001b[0m\u001b[0;34m)\u001b[0m\u001b[0;34m:\u001b[0m\u001b[0;34m\u001b[0m\u001b[0;34m\u001b[0m\u001b[0m\n\u001b[1;32m   2678\u001b[0m                         \u001b[0mloop\u001b[0m\u001b[0;34m.\u001b[0m\u001b[0moutput_writes\u001b[0m\u001b[0;34m(\u001b[0m\u001b[0mtask\u001b[0m\u001b[0;34m.\u001b[0m\u001b[0mid\u001b[0m\u001b[0;34m,\u001b[0m \u001b[0mtask\u001b[0m\u001b[0;34m.\u001b[0m\u001b[0mwrites\u001b[0m\u001b[0;34m,\u001b[0m \u001b[0mcached\u001b[0m\u001b[0;34m=\u001b[0m\u001b[0;32mTrue\u001b[0m\u001b[0;34m)\u001b[0m\u001b[0;34m\u001b[0m\u001b[0;34m\u001b[0m\u001b[0m\n\u001b[0;32m-> 2679\u001b[0;31m                     for _ in runner.tick(\n\u001b[0m\u001b[1;32m   2680\u001b[0m                         \u001b[0;34m[\u001b[0m\u001b[0mt\u001b[0m \u001b[0;32mfor\u001b[0m \u001b[0mt\u001b[0m \u001b[0;32min\u001b[0m \u001b[0mloop\u001b[0m\u001b[0;34m.\u001b[0m\u001b[0mtasks\u001b[0m\u001b[0;34m.\u001b[0m\u001b[0mvalues\u001b[0m\u001b[0;34m(\u001b[0m\u001b[0;34m)\u001b[0m \u001b[0;32mif\u001b[0m \u001b[0;32mnot\u001b[0m \u001b[0mt\u001b[0m\u001b[0;34m.\u001b[0m\u001b[0mwrites\u001b[0m\u001b[0;34m]\u001b[0m\u001b[0;34m,\u001b[0m\u001b[0;34m\u001b[0m\u001b[0;34m\u001b[0m\u001b[0m\n\u001b[1;32m   2681\u001b[0m                         \u001b[0mtimeout\u001b[0m\u001b[0;34m=\u001b[0m\u001b[0mself\u001b[0m\u001b[0;34m.\u001b[0m\u001b[0mstep_timeout\u001b[0m\u001b[0;34m,\u001b[0m\u001b[0;34m\u001b[0m\u001b[0;34m\u001b[0m\u001b[0m\n",
            "\u001b[0;32m/usr/local/lib/python3.12/dist-packages/langgraph/pregel/_runner.py\u001b[0m in \u001b[0;36mtick\u001b[0;34m(self, tasks, reraise, timeout, retry_policy, get_waiter, schedule_task)\u001b[0m\n\u001b[1;32m    165\u001b[0m             \u001b[0mt\u001b[0m \u001b[0;34m=\u001b[0m \u001b[0mtasks\u001b[0m\u001b[0;34m[\u001b[0m\u001b[0;36m0\u001b[0m\u001b[0;34m]\u001b[0m\u001b[0;34m\u001b[0m\u001b[0;34m\u001b[0m\u001b[0m\n\u001b[1;32m    166\u001b[0m             \u001b[0;32mtry\u001b[0m\u001b[0;34m:\u001b[0m\u001b[0;34m\u001b[0m\u001b[0;34m\u001b[0m\u001b[0m\n\u001b[0;32m--> 167\u001b[0;31m                 run_with_retry(\n\u001b[0m\u001b[1;32m    168\u001b[0m                     \u001b[0mt\u001b[0m\u001b[0;34m,\u001b[0m\u001b[0;34m\u001b[0m\u001b[0;34m\u001b[0m\u001b[0m\n\u001b[1;32m    169\u001b[0m                     \u001b[0mretry_policy\u001b[0m\u001b[0;34m,\u001b[0m\u001b[0;34m\u001b[0m\u001b[0;34m\u001b[0m\u001b[0m\n",
            "\u001b[0;32m/usr/local/lib/python3.12/dist-packages/langgraph/pregel/_retry.py\u001b[0m in \u001b[0;36mrun_with_retry\u001b[0;34m(task, retry_policy, configurable)\u001b[0m\n\u001b[1;32m     40\u001b[0m             \u001b[0mtask\u001b[0m\u001b[0;34m.\u001b[0m\u001b[0mwrites\u001b[0m\u001b[0;34m.\u001b[0m\u001b[0mclear\u001b[0m\u001b[0;34m(\u001b[0m\u001b[0;34m)\u001b[0m\u001b[0;34m\u001b[0m\u001b[0;34m\u001b[0m\u001b[0m\n\u001b[1;32m     41\u001b[0m             \u001b[0;31m# run the task\u001b[0m\u001b[0;34m\u001b[0m\u001b[0;34m\u001b[0m\u001b[0m\n\u001b[0;32m---> 42\u001b[0;31m             \u001b[0;32mreturn\u001b[0m \u001b[0mtask\u001b[0m\u001b[0;34m.\u001b[0m\u001b[0mproc\u001b[0m\u001b[0;34m.\u001b[0m\u001b[0minvoke\u001b[0m\u001b[0;34m(\u001b[0m\u001b[0mtask\u001b[0m\u001b[0;34m.\u001b[0m\u001b[0minput\u001b[0m\u001b[0;34m,\u001b[0m \u001b[0mconfig\u001b[0m\u001b[0;34m)\u001b[0m\u001b[0;34m\u001b[0m\u001b[0;34m\u001b[0m\u001b[0m\n\u001b[0m\u001b[1;32m     43\u001b[0m         \u001b[0;32mexcept\u001b[0m \u001b[0mParentCommand\u001b[0m \u001b[0;32mas\u001b[0m \u001b[0mexc\u001b[0m\u001b[0;34m:\u001b[0m\u001b[0;34m\u001b[0m\u001b[0;34m\u001b[0m\u001b[0m\n\u001b[1;32m     44\u001b[0m             \u001b[0mns\u001b[0m\u001b[0;34m:\u001b[0m \u001b[0mstr\u001b[0m \u001b[0;34m=\u001b[0m \u001b[0mconfig\u001b[0m\u001b[0;34m[\u001b[0m\u001b[0mCONF\u001b[0m\u001b[0;34m]\u001b[0m\u001b[0;34m[\u001b[0m\u001b[0mCONFIG_KEY_CHECKPOINT_NS\u001b[0m\u001b[0;34m]\u001b[0m\u001b[0;34m\u001b[0m\u001b[0;34m\u001b[0m\u001b[0m\n",
            "\u001b[0;32m/usr/local/lib/python3.12/dist-packages/langgraph/_internal/_runnable.py\u001b[0m in \u001b[0;36minvoke\u001b[0;34m(self, input, config, **kwargs)\u001b[0m\n\u001b[1;32m    654\u001b[0m                     \u001b[0;31m# run in context\u001b[0m\u001b[0;34m\u001b[0m\u001b[0;34m\u001b[0m\u001b[0m\n\u001b[1;32m    655\u001b[0m                     \u001b[0;32mwith\u001b[0m \u001b[0mset_config_context\u001b[0m\u001b[0;34m(\u001b[0m\u001b[0mconfig\u001b[0m\u001b[0;34m,\u001b[0m \u001b[0mrun\u001b[0m\u001b[0;34m)\u001b[0m \u001b[0;32mas\u001b[0m \u001b[0mcontext\u001b[0m\u001b[0;34m:\u001b[0m\u001b[0;34m\u001b[0m\u001b[0;34m\u001b[0m\u001b[0m\n\u001b[0;32m--> 656\u001b[0;31m                         \u001b[0minput\u001b[0m \u001b[0;34m=\u001b[0m \u001b[0mcontext\u001b[0m\u001b[0;34m.\u001b[0m\u001b[0mrun\u001b[0m\u001b[0;34m(\u001b[0m\u001b[0mstep\u001b[0m\u001b[0;34m.\u001b[0m\u001b[0minvoke\u001b[0m\u001b[0;34m,\u001b[0m \u001b[0minput\u001b[0m\u001b[0;34m,\u001b[0m \u001b[0mconfig\u001b[0m\u001b[0;34m,\u001b[0m \u001b[0;34m**\u001b[0m\u001b[0mkwargs\u001b[0m\u001b[0;34m)\u001b[0m\u001b[0;34m\u001b[0m\u001b[0;34m\u001b[0m\u001b[0m\n\u001b[0m\u001b[1;32m    657\u001b[0m                 \u001b[0;32melse\u001b[0m\u001b[0;34m:\u001b[0m\u001b[0;34m\u001b[0m\u001b[0;34m\u001b[0m\u001b[0m\n\u001b[1;32m    658\u001b[0m                     \u001b[0minput\u001b[0m \u001b[0;34m=\u001b[0m \u001b[0mstep\u001b[0m\u001b[0;34m.\u001b[0m\u001b[0minvoke\u001b[0m\u001b[0;34m(\u001b[0m\u001b[0minput\u001b[0m\u001b[0;34m,\u001b[0m \u001b[0mconfig\u001b[0m\u001b[0;34m)\u001b[0m\u001b[0;34m\u001b[0m\u001b[0;34m\u001b[0m\u001b[0m\n",
            "\u001b[0;32m/usr/local/lib/python3.12/dist-packages/langgraph/_internal/_runnable.py\u001b[0m in \u001b[0;36minvoke\u001b[0;34m(self, input, config, **kwargs)\u001b[0m\n\u001b[1;32m    391\u001b[0m                 \u001b[0;31m# run in context\u001b[0m\u001b[0;34m\u001b[0m\u001b[0;34m\u001b[0m\u001b[0m\n\u001b[1;32m    392\u001b[0m                 \u001b[0;32mwith\u001b[0m \u001b[0mset_config_context\u001b[0m\u001b[0;34m(\u001b[0m\u001b[0mchild_config\u001b[0m\u001b[0;34m,\u001b[0m \u001b[0mrun\u001b[0m\u001b[0;34m)\u001b[0m \u001b[0;32mas\u001b[0m \u001b[0mcontext\u001b[0m\u001b[0;34m:\u001b[0m\u001b[0;34m\u001b[0m\u001b[0;34m\u001b[0m\u001b[0m\n\u001b[0;32m--> 393\u001b[0;31m                     \u001b[0mret\u001b[0m \u001b[0;34m=\u001b[0m \u001b[0mcontext\u001b[0m\u001b[0;34m.\u001b[0m\u001b[0mrun\u001b[0m\u001b[0;34m(\u001b[0m\u001b[0mself\u001b[0m\u001b[0;34m.\u001b[0m\u001b[0mfunc\u001b[0m\u001b[0;34m,\u001b[0m \u001b[0;34m*\u001b[0m\u001b[0margs\u001b[0m\u001b[0;34m,\u001b[0m \u001b[0;34m**\u001b[0m\u001b[0mkwargs\u001b[0m\u001b[0;34m)\u001b[0m\u001b[0;34m\u001b[0m\u001b[0;34m\u001b[0m\u001b[0m\n\u001b[0m\u001b[1;32m    394\u001b[0m             \u001b[0;32mexcept\u001b[0m \u001b[0mBaseException\u001b[0m \u001b[0;32mas\u001b[0m \u001b[0me\u001b[0m\u001b[0;34m:\u001b[0m\u001b[0;34m\u001b[0m\u001b[0;34m\u001b[0m\u001b[0m\n\u001b[1;32m    395\u001b[0m                 \u001b[0mrun_manager\u001b[0m\u001b[0;34m.\u001b[0m\u001b[0mon_chain_error\u001b[0m\u001b[0;34m(\u001b[0m\u001b[0me\u001b[0m\u001b[0;34m)\u001b[0m\u001b[0;34m\u001b[0m\u001b[0;34m\u001b[0m\u001b[0m\n",
            "\u001b[0;32m/usr/local/lib/python3.12/dist-packages/langgraph/prebuilt/chat_agent_executor.py\u001b[0m in \u001b[0;36mcall_model\u001b[0;34m(state, runtime, config)\u001b[0m\n\u001b[1;32m    657\u001b[0m             \u001b[0mresponse\u001b[0m \u001b[0;34m=\u001b[0m \u001b[0mcast\u001b[0m\u001b[0;34m(\u001b[0m\u001b[0mAIMessage\u001b[0m\u001b[0;34m,\u001b[0m \u001b[0mdynamic_model\u001b[0m\u001b[0;34m.\u001b[0m\u001b[0minvoke\u001b[0m\u001b[0;34m(\u001b[0m\u001b[0mmodel_input\u001b[0m\u001b[0;34m,\u001b[0m \u001b[0mconfig\u001b[0m\u001b[0;34m)\u001b[0m\u001b[0;34m)\u001b[0m  \u001b[0;31m# type: ignore[arg-type]\u001b[0m\u001b[0;34m\u001b[0m\u001b[0;34m\u001b[0m\u001b[0m\n\u001b[1;32m    658\u001b[0m         \u001b[0;32melse\u001b[0m\u001b[0;34m:\u001b[0m\u001b[0;34m\u001b[0m\u001b[0;34m\u001b[0m\u001b[0m\n\u001b[0;32m--> 659\u001b[0;31m             \u001b[0mresponse\u001b[0m \u001b[0;34m=\u001b[0m \u001b[0mcast\u001b[0m\u001b[0;34m(\u001b[0m\u001b[0mAIMessage\u001b[0m\u001b[0;34m,\u001b[0m \u001b[0mstatic_model\u001b[0m\u001b[0;34m.\u001b[0m\u001b[0minvoke\u001b[0m\u001b[0;34m(\u001b[0m\u001b[0mmodel_input\u001b[0m\u001b[0;34m,\u001b[0m \u001b[0mconfig\u001b[0m\u001b[0;34m)\u001b[0m\u001b[0;34m)\u001b[0m  \u001b[0;31m# type: ignore[union-attr]\u001b[0m\u001b[0;34m\u001b[0m\u001b[0;34m\u001b[0m\u001b[0m\n\u001b[0m\u001b[1;32m    660\u001b[0m \u001b[0;34m\u001b[0m\u001b[0m\n\u001b[1;32m    661\u001b[0m         \u001b[0;31m# add agent name to the AIMessage\u001b[0m\u001b[0;34m\u001b[0m\u001b[0;34m\u001b[0m\u001b[0m\n",
            "\u001b[0;32m/usr/local/lib/python3.12/dist-packages/langchain_core/runnables/base.py\u001b[0m in \u001b[0;36minvoke\u001b[0;34m(self, input, config, **kwargs)\u001b[0m\n\u001b[1;32m   3244\u001b[0m                         \u001b[0minput_\u001b[0m \u001b[0;34m=\u001b[0m \u001b[0mcontext\u001b[0m\u001b[0;34m.\u001b[0m\u001b[0mrun\u001b[0m\u001b[0;34m(\u001b[0m\u001b[0mstep\u001b[0m\u001b[0;34m.\u001b[0m\u001b[0minvoke\u001b[0m\u001b[0;34m,\u001b[0m \u001b[0minput_\u001b[0m\u001b[0;34m,\u001b[0m \u001b[0mconfig\u001b[0m\u001b[0;34m,\u001b[0m \u001b[0;34m**\u001b[0m\u001b[0mkwargs\u001b[0m\u001b[0;34m)\u001b[0m\u001b[0;34m\u001b[0m\u001b[0;34m\u001b[0m\u001b[0m\n\u001b[1;32m   3245\u001b[0m                     \u001b[0;32melse\u001b[0m\u001b[0;34m:\u001b[0m\u001b[0;34m\u001b[0m\u001b[0;34m\u001b[0m\u001b[0m\n\u001b[0;32m-> 3246\u001b[0;31m                         \u001b[0minput_\u001b[0m \u001b[0;34m=\u001b[0m \u001b[0mcontext\u001b[0m\u001b[0;34m.\u001b[0m\u001b[0mrun\u001b[0m\u001b[0;34m(\u001b[0m\u001b[0mstep\u001b[0m\u001b[0;34m.\u001b[0m\u001b[0minvoke\u001b[0m\u001b[0;34m,\u001b[0m \u001b[0minput_\u001b[0m\u001b[0;34m,\u001b[0m \u001b[0mconfig\u001b[0m\u001b[0;34m)\u001b[0m\u001b[0;34m\u001b[0m\u001b[0;34m\u001b[0m\u001b[0m\n\u001b[0m\u001b[1;32m   3247\u001b[0m         \u001b[0;31m# finish the root run\u001b[0m\u001b[0;34m\u001b[0m\u001b[0;34m\u001b[0m\u001b[0m\n\u001b[1;32m   3248\u001b[0m         \u001b[0;32mexcept\u001b[0m \u001b[0mBaseException\u001b[0m \u001b[0;32mas\u001b[0m \u001b[0me\u001b[0m\u001b[0;34m:\u001b[0m\u001b[0;34m\u001b[0m\u001b[0;34m\u001b[0m\u001b[0m\n",
            "\u001b[0;32m/usr/local/lib/python3.12/dist-packages/langchain_core/runnables/base.py\u001b[0m in \u001b[0;36minvoke\u001b[0;34m(self, input, config, **kwargs)\u001b[0m\n\u001b[1;32m   5709\u001b[0m         \u001b[0;34m**\u001b[0m\u001b[0mkwargs\u001b[0m\u001b[0;34m:\u001b[0m \u001b[0mOptional\u001b[0m\u001b[0;34m[\u001b[0m\u001b[0mAny\u001b[0m\u001b[0;34m]\u001b[0m\u001b[0;34m,\u001b[0m\u001b[0;34m\u001b[0m\u001b[0;34m\u001b[0m\u001b[0m\n\u001b[1;32m   5710\u001b[0m     ) -> Output:\n\u001b[0;32m-> 5711\u001b[0;31m         return self.bound.invoke(\n\u001b[0m\u001b[1;32m   5712\u001b[0m             \u001b[0minput\u001b[0m\u001b[0;34m,\u001b[0m\u001b[0;34m\u001b[0m\u001b[0;34m\u001b[0m\u001b[0m\n\u001b[1;32m   5713\u001b[0m             \u001b[0mself\u001b[0m\u001b[0;34m.\u001b[0m\u001b[0m_merge_configs\u001b[0m\u001b[0;34m(\u001b[0m\u001b[0mconfig\u001b[0m\u001b[0;34m)\u001b[0m\u001b[0;34m,\u001b[0m\u001b[0;34m\u001b[0m\u001b[0;34m\u001b[0m\u001b[0m\n",
            "\u001b[0;32m/usr/local/lib/python3.12/dist-packages/langchain_core/language_models/chat_models.py\u001b[0m in \u001b[0;36minvoke\u001b[0;34m(self, input, config, stop, **kwargs)\u001b[0m\n\u001b[1;32m    393\u001b[0m         return cast(\n\u001b[1;32m    394\u001b[0m             \u001b[0;34m\"ChatGeneration\"\u001b[0m\u001b[0;34m,\u001b[0m\u001b[0;34m\u001b[0m\u001b[0;34m\u001b[0m\u001b[0m\n\u001b[0;32m--> 395\u001b[0;31m             self.generate_prompt(\n\u001b[0m\u001b[1;32m    396\u001b[0m                 \u001b[0;34m[\u001b[0m\u001b[0mself\u001b[0m\u001b[0;34m.\u001b[0m\u001b[0m_convert_input\u001b[0m\u001b[0;34m(\u001b[0m\u001b[0minput\u001b[0m\u001b[0;34m)\u001b[0m\u001b[0;34m]\u001b[0m\u001b[0;34m,\u001b[0m\u001b[0;34m\u001b[0m\u001b[0;34m\u001b[0m\u001b[0m\n\u001b[1;32m    397\u001b[0m                 \u001b[0mstop\u001b[0m\u001b[0;34m=\u001b[0m\u001b[0mstop\u001b[0m\u001b[0;34m,\u001b[0m\u001b[0;34m\u001b[0m\u001b[0;34m\u001b[0m\u001b[0m\n",
            "\u001b[0;32m/usr/local/lib/python3.12/dist-packages/langchain_core/language_models/chat_models.py\u001b[0m in \u001b[0;36mgenerate_prompt\u001b[0;34m(self, prompts, stop, callbacks, **kwargs)\u001b[0m\n\u001b[1;32m   1023\u001b[0m     ) -> LLMResult:\n\u001b[1;32m   1024\u001b[0m         \u001b[0mprompt_messages\u001b[0m \u001b[0;34m=\u001b[0m \u001b[0;34m[\u001b[0m\u001b[0mp\u001b[0m\u001b[0;34m.\u001b[0m\u001b[0mto_messages\u001b[0m\u001b[0;34m(\u001b[0m\u001b[0;34m)\u001b[0m \u001b[0;32mfor\u001b[0m \u001b[0mp\u001b[0m \u001b[0;32min\u001b[0m \u001b[0mprompts\u001b[0m\u001b[0;34m]\u001b[0m\u001b[0;34m\u001b[0m\u001b[0;34m\u001b[0m\u001b[0m\n\u001b[0;32m-> 1025\u001b[0;31m         \u001b[0;32mreturn\u001b[0m \u001b[0mself\u001b[0m\u001b[0;34m.\u001b[0m\u001b[0mgenerate\u001b[0m\u001b[0;34m(\u001b[0m\u001b[0mprompt_messages\u001b[0m\u001b[0;34m,\u001b[0m \u001b[0mstop\u001b[0m\u001b[0;34m=\u001b[0m\u001b[0mstop\u001b[0m\u001b[0;34m,\u001b[0m \u001b[0mcallbacks\u001b[0m\u001b[0;34m=\u001b[0m\u001b[0mcallbacks\u001b[0m\u001b[0;34m,\u001b[0m \u001b[0;34m**\u001b[0m\u001b[0mkwargs\u001b[0m\u001b[0;34m)\u001b[0m\u001b[0;34m\u001b[0m\u001b[0;34m\u001b[0m\u001b[0m\n\u001b[0m\u001b[1;32m   1026\u001b[0m \u001b[0;34m\u001b[0m\u001b[0m\n\u001b[1;32m   1027\u001b[0m     \u001b[0;34m@\u001b[0m\u001b[0moverride\u001b[0m\u001b[0;34m\u001b[0m\u001b[0;34m\u001b[0m\u001b[0m\n",
            "\u001b[0;32m/usr/local/lib/python3.12/dist-packages/langchain_core/language_models/chat_models.py\u001b[0m in \u001b[0;36mgenerate\u001b[0;34m(self, messages, stop, callbacks, tags, metadata, run_name, run_id, **kwargs)\u001b[0m\n\u001b[1;32m    840\u001b[0m             \u001b[0;32mtry\u001b[0m\u001b[0;34m:\u001b[0m\u001b[0;34m\u001b[0m\u001b[0;34m\u001b[0m\u001b[0m\n\u001b[1;32m    841\u001b[0m                 results.append(\n\u001b[0;32m--> 842\u001b[0;31m                     self._generate_with_cache(\n\u001b[0m\u001b[1;32m    843\u001b[0m                         \u001b[0mm\u001b[0m\u001b[0;34m,\u001b[0m\u001b[0;34m\u001b[0m\u001b[0;34m\u001b[0m\u001b[0m\n\u001b[1;32m    844\u001b[0m                         \u001b[0mstop\u001b[0m\u001b[0;34m=\u001b[0m\u001b[0mstop\u001b[0m\u001b[0;34m,\u001b[0m\u001b[0;34m\u001b[0m\u001b[0;34m\u001b[0m\u001b[0m\n",
            "\u001b[0;32m/usr/local/lib/python3.12/dist-packages/langchain_core/language_models/chat_models.py\u001b[0m in \u001b[0;36m_generate_with_cache\u001b[0;34m(self, messages, stop, run_manager, **kwargs)\u001b[0m\n\u001b[1;32m   1089\u001b[0m             \u001b[0mresult\u001b[0m \u001b[0;34m=\u001b[0m \u001b[0mgenerate_from_stream\u001b[0m\u001b[0;34m(\u001b[0m\u001b[0miter\u001b[0m\u001b[0;34m(\u001b[0m\u001b[0mchunks\u001b[0m\u001b[0;34m)\u001b[0m\u001b[0;34m)\u001b[0m\u001b[0;34m\u001b[0m\u001b[0;34m\u001b[0m\u001b[0m\n\u001b[1;32m   1090\u001b[0m         \u001b[0;32melif\u001b[0m \u001b[0minspect\u001b[0m\u001b[0;34m.\u001b[0m\u001b[0msignature\u001b[0m\u001b[0;34m(\u001b[0m\u001b[0mself\u001b[0m\u001b[0;34m.\u001b[0m\u001b[0m_generate\u001b[0m\u001b[0;34m)\u001b[0m\u001b[0;34m.\u001b[0m\u001b[0mparameters\u001b[0m\u001b[0;34m.\u001b[0m\u001b[0mget\u001b[0m\u001b[0;34m(\u001b[0m\u001b[0;34m\"run_manager\"\u001b[0m\u001b[0;34m)\u001b[0m\u001b[0;34m:\u001b[0m\u001b[0;34m\u001b[0m\u001b[0;34m\u001b[0m\u001b[0m\n\u001b[0;32m-> 1091\u001b[0;31m             result = self._generate(\n\u001b[0m\u001b[1;32m   1092\u001b[0m                 \u001b[0mmessages\u001b[0m\u001b[0;34m,\u001b[0m \u001b[0mstop\u001b[0m\u001b[0;34m=\u001b[0m\u001b[0mstop\u001b[0m\u001b[0;34m,\u001b[0m \u001b[0mrun_manager\u001b[0m\u001b[0;34m=\u001b[0m\u001b[0mrun_manager\u001b[0m\u001b[0;34m,\u001b[0m \u001b[0;34m**\u001b[0m\u001b[0mkwargs\u001b[0m\u001b[0;34m\u001b[0m\u001b[0;34m\u001b[0m\u001b[0m\n\u001b[1;32m   1093\u001b[0m             )\n",
            "\u001b[0;32m/usr/local/lib/python3.12/dist-packages/langchain_google_genai/chat_models.py\u001b[0m in \u001b[0;36m_generate\u001b[0;34m(self, messages, stop, run_manager, tools, functions, safety_settings, tool_config, generation_config, cached_content, tool_choice, **kwargs)\u001b[0m\n\u001b[1;32m    959\u001b[0m             \u001b[0mtool_choice\u001b[0m\u001b[0;34m=\u001b[0m\u001b[0mtool_choice\u001b[0m\u001b[0;34m,\u001b[0m\u001b[0;34m\u001b[0m\u001b[0;34m\u001b[0m\u001b[0m\n\u001b[1;32m    960\u001b[0m         )\n\u001b[0;32m--> 961\u001b[0;31m         response: GenerateContentResponse = _chat_with_retry(\n\u001b[0m\u001b[1;32m    962\u001b[0m             \u001b[0mrequest\u001b[0m\u001b[0;34m=\u001b[0m\u001b[0mrequest\u001b[0m\u001b[0;34m,\u001b[0m\u001b[0;34m\u001b[0m\u001b[0;34m\u001b[0m\u001b[0m\n\u001b[1;32m    963\u001b[0m             \u001b[0;34m**\u001b[0m\u001b[0mkwargs\u001b[0m\u001b[0;34m,\u001b[0m\u001b[0;34m\u001b[0m\u001b[0;34m\u001b[0m\u001b[0m\n",
            "\u001b[0;32m/usr/local/lib/python3.12/dist-packages/langchain_google_genai/chat_models.py\u001b[0m in \u001b[0;36m_chat_with_retry\u001b[0;34m(generation_method, **kwargs)\u001b[0m\n\u001b[1;32m    194\u001b[0m             \u001b[0;32mraise\u001b[0m \u001b[0me\u001b[0m\u001b[0;34m\u001b[0m\u001b[0;34m\u001b[0m\u001b[0m\n\u001b[1;32m    195\u001b[0m \u001b[0;34m\u001b[0m\u001b[0m\n\u001b[0;32m--> 196\u001b[0;31m     \u001b[0;32mreturn\u001b[0m \u001b[0m_chat_with_retry\u001b[0m\u001b[0;34m(\u001b[0m\u001b[0;34m**\u001b[0m\u001b[0mkwargs\u001b[0m\u001b[0;34m)\u001b[0m\u001b[0;34m\u001b[0m\u001b[0;34m\u001b[0m\u001b[0m\n\u001b[0m\u001b[1;32m    197\u001b[0m \u001b[0;34m\u001b[0m\u001b[0m\n\u001b[1;32m    198\u001b[0m \u001b[0;34m\u001b[0m\u001b[0m\n",
            "\u001b[0;32m/usr/local/lib/python3.12/dist-packages/tenacity/__init__.py\u001b[0m in \u001b[0;36mwrapped_f\u001b[0;34m(*args, **kw)\u001b[0m\n\u001b[1;32m    334\u001b[0m             \u001b[0mcopy\u001b[0m \u001b[0;34m=\u001b[0m \u001b[0mself\u001b[0m\u001b[0;34m.\u001b[0m\u001b[0mcopy\u001b[0m\u001b[0;34m(\u001b[0m\u001b[0;34m)\u001b[0m\u001b[0;34m\u001b[0m\u001b[0;34m\u001b[0m\u001b[0m\n\u001b[1;32m    335\u001b[0m             \u001b[0mwrapped_f\u001b[0m\u001b[0;34m.\u001b[0m\u001b[0mstatistics\u001b[0m \u001b[0;34m=\u001b[0m \u001b[0mcopy\u001b[0m\u001b[0;34m.\u001b[0m\u001b[0mstatistics\u001b[0m  \u001b[0;31m# type: ignore[attr-defined]\u001b[0m\u001b[0;34m\u001b[0m\u001b[0;34m\u001b[0m\u001b[0m\n\u001b[0;32m--> 336\u001b[0;31m             \u001b[0;32mreturn\u001b[0m \u001b[0mcopy\u001b[0m\u001b[0;34m(\u001b[0m\u001b[0mf\u001b[0m\u001b[0;34m,\u001b[0m \u001b[0;34m*\u001b[0m\u001b[0margs\u001b[0m\u001b[0;34m,\u001b[0m \u001b[0;34m**\u001b[0m\u001b[0mkw\u001b[0m\u001b[0;34m)\u001b[0m\u001b[0;34m\u001b[0m\u001b[0;34m\u001b[0m\u001b[0m\n\u001b[0m\u001b[1;32m    337\u001b[0m \u001b[0;34m\u001b[0m\u001b[0m\n\u001b[1;32m    338\u001b[0m         \u001b[0;32mdef\u001b[0m \u001b[0mretry_with\u001b[0m\u001b[0;34m(\u001b[0m\u001b[0;34m*\u001b[0m\u001b[0margs\u001b[0m\u001b[0;34m:\u001b[0m \u001b[0mt\u001b[0m\u001b[0;34m.\u001b[0m\u001b[0mAny\u001b[0m\u001b[0;34m,\u001b[0m \u001b[0;34m**\u001b[0m\u001b[0mkwargs\u001b[0m\u001b[0;34m:\u001b[0m \u001b[0mt\u001b[0m\u001b[0;34m.\u001b[0m\u001b[0mAny\u001b[0m\u001b[0;34m)\u001b[0m \u001b[0;34m->\u001b[0m \u001b[0mWrappedFn\u001b[0m\u001b[0;34m:\u001b[0m\u001b[0;34m\u001b[0m\u001b[0;34m\u001b[0m\u001b[0m\n",
            "\u001b[0;32m/usr/local/lib/python3.12/dist-packages/tenacity/__init__.py\u001b[0m in \u001b[0;36m__call__\u001b[0;34m(self, fn, *args, **kwargs)\u001b[0m\n\u001b[1;32m    473\u001b[0m         \u001b[0mretry_state\u001b[0m \u001b[0;34m=\u001b[0m \u001b[0mRetryCallState\u001b[0m\u001b[0;34m(\u001b[0m\u001b[0mretry_object\u001b[0m\u001b[0;34m=\u001b[0m\u001b[0mself\u001b[0m\u001b[0;34m,\u001b[0m \u001b[0mfn\u001b[0m\u001b[0;34m=\u001b[0m\u001b[0mfn\u001b[0m\u001b[0;34m,\u001b[0m \u001b[0margs\u001b[0m\u001b[0;34m=\u001b[0m\u001b[0margs\u001b[0m\u001b[0;34m,\u001b[0m \u001b[0mkwargs\u001b[0m\u001b[0;34m=\u001b[0m\u001b[0mkwargs\u001b[0m\u001b[0;34m)\u001b[0m\u001b[0;34m\u001b[0m\u001b[0;34m\u001b[0m\u001b[0m\n\u001b[1;32m    474\u001b[0m         \u001b[0;32mwhile\u001b[0m \u001b[0;32mTrue\u001b[0m\u001b[0;34m:\u001b[0m\u001b[0;34m\u001b[0m\u001b[0;34m\u001b[0m\u001b[0m\n\u001b[0;32m--> 475\u001b[0;31m             \u001b[0mdo\u001b[0m \u001b[0;34m=\u001b[0m \u001b[0mself\u001b[0m\u001b[0;34m.\u001b[0m\u001b[0miter\u001b[0m\u001b[0;34m(\u001b[0m\u001b[0mretry_state\u001b[0m\u001b[0;34m=\u001b[0m\u001b[0mretry_state\u001b[0m\u001b[0;34m)\u001b[0m\u001b[0;34m\u001b[0m\u001b[0;34m\u001b[0m\u001b[0m\n\u001b[0m\u001b[1;32m    476\u001b[0m             \u001b[0;32mif\u001b[0m \u001b[0misinstance\u001b[0m\u001b[0;34m(\u001b[0m\u001b[0mdo\u001b[0m\u001b[0;34m,\u001b[0m \u001b[0mDoAttempt\u001b[0m\u001b[0;34m)\u001b[0m\u001b[0;34m:\u001b[0m\u001b[0;34m\u001b[0m\u001b[0;34m\u001b[0m\u001b[0m\n\u001b[1;32m    477\u001b[0m                 \u001b[0;32mtry\u001b[0m\u001b[0;34m:\u001b[0m\u001b[0;34m\u001b[0m\u001b[0;34m\u001b[0m\u001b[0m\n",
            "\u001b[0;32m/usr/local/lib/python3.12/dist-packages/tenacity/__init__.py\u001b[0m in \u001b[0;36miter\u001b[0;34m(self, retry_state)\u001b[0m\n\u001b[1;32m    374\u001b[0m         \u001b[0mresult\u001b[0m \u001b[0;34m=\u001b[0m \u001b[0;32mNone\u001b[0m\u001b[0;34m\u001b[0m\u001b[0;34m\u001b[0m\u001b[0m\n\u001b[1;32m    375\u001b[0m         \u001b[0;32mfor\u001b[0m \u001b[0maction\u001b[0m \u001b[0;32min\u001b[0m \u001b[0mself\u001b[0m\u001b[0;34m.\u001b[0m\u001b[0miter_state\u001b[0m\u001b[0;34m.\u001b[0m\u001b[0mactions\u001b[0m\u001b[0;34m:\u001b[0m\u001b[0;34m\u001b[0m\u001b[0;34m\u001b[0m\u001b[0m\n\u001b[0;32m--> 376\u001b[0;31m             \u001b[0mresult\u001b[0m \u001b[0;34m=\u001b[0m \u001b[0maction\u001b[0m\u001b[0;34m(\u001b[0m\u001b[0mretry_state\u001b[0m\u001b[0;34m)\u001b[0m\u001b[0;34m\u001b[0m\u001b[0;34m\u001b[0m\u001b[0m\n\u001b[0m\u001b[1;32m    377\u001b[0m         \u001b[0;32mreturn\u001b[0m \u001b[0mresult\u001b[0m\u001b[0;34m\u001b[0m\u001b[0;34m\u001b[0m\u001b[0m\n\u001b[1;32m    378\u001b[0m \u001b[0;34m\u001b[0m\u001b[0m\n",
            "\u001b[0;32m/usr/local/lib/python3.12/dist-packages/tenacity/__init__.py\u001b[0m in \u001b[0;36m<lambda>\u001b[0;34m(rs)\u001b[0m\n\u001b[1;32m    396\u001b[0m     \u001b[0;32mdef\u001b[0m \u001b[0m_post_retry_check_actions\u001b[0m\u001b[0;34m(\u001b[0m\u001b[0mself\u001b[0m\u001b[0;34m,\u001b[0m \u001b[0mretry_state\u001b[0m\u001b[0;34m:\u001b[0m \u001b[0;34m\"RetryCallState\"\u001b[0m\u001b[0;34m)\u001b[0m \u001b[0;34m->\u001b[0m \u001b[0;32mNone\u001b[0m\u001b[0;34m:\u001b[0m\u001b[0;34m\u001b[0m\u001b[0;34m\u001b[0m\u001b[0m\n\u001b[1;32m    397\u001b[0m         \u001b[0;32mif\u001b[0m \u001b[0;32mnot\u001b[0m \u001b[0;34m(\u001b[0m\u001b[0mself\u001b[0m\u001b[0;34m.\u001b[0m\u001b[0miter_state\u001b[0m\u001b[0;34m.\u001b[0m\u001b[0mis_explicit_retry\u001b[0m \u001b[0;32mor\u001b[0m \u001b[0mself\u001b[0m\u001b[0;34m.\u001b[0m\u001b[0miter_state\u001b[0m\u001b[0;34m.\u001b[0m\u001b[0mretry_run_result\u001b[0m\u001b[0;34m)\u001b[0m\u001b[0;34m:\u001b[0m\u001b[0;34m\u001b[0m\u001b[0;34m\u001b[0m\u001b[0m\n\u001b[0;32m--> 398\u001b[0;31m             \u001b[0mself\u001b[0m\u001b[0;34m.\u001b[0m\u001b[0m_add_action_func\u001b[0m\u001b[0;34m(\u001b[0m\u001b[0;32mlambda\u001b[0m \u001b[0mrs\u001b[0m\u001b[0;34m:\u001b[0m \u001b[0mrs\u001b[0m\u001b[0;34m.\u001b[0m\u001b[0moutcome\u001b[0m\u001b[0;34m.\u001b[0m\u001b[0mresult\u001b[0m\u001b[0;34m(\u001b[0m\u001b[0;34m)\u001b[0m\u001b[0;34m)\u001b[0m\u001b[0;34m\u001b[0m\u001b[0;34m\u001b[0m\u001b[0m\n\u001b[0m\u001b[1;32m    399\u001b[0m             \u001b[0;32mreturn\u001b[0m\u001b[0;34m\u001b[0m\u001b[0;34m\u001b[0m\u001b[0m\n\u001b[1;32m    400\u001b[0m \u001b[0;34m\u001b[0m\u001b[0m\n",
            "\u001b[0;32m/usr/lib/python3.12/concurrent/futures/_base.py\u001b[0m in \u001b[0;36mresult\u001b[0;34m(self, timeout)\u001b[0m\n\u001b[1;32m    447\u001b[0m                     \u001b[0;32mraise\u001b[0m \u001b[0mCancelledError\u001b[0m\u001b[0;34m(\u001b[0m\u001b[0;34m)\u001b[0m\u001b[0;34m\u001b[0m\u001b[0;34m\u001b[0m\u001b[0m\n\u001b[1;32m    448\u001b[0m                 \u001b[0;32melif\u001b[0m \u001b[0mself\u001b[0m\u001b[0;34m.\u001b[0m\u001b[0m_state\u001b[0m \u001b[0;34m==\u001b[0m \u001b[0mFINISHED\u001b[0m\u001b[0;34m:\u001b[0m\u001b[0;34m\u001b[0m\u001b[0;34m\u001b[0m\u001b[0m\n\u001b[0;32m--> 449\u001b[0;31m                     \u001b[0;32mreturn\u001b[0m \u001b[0mself\u001b[0m\u001b[0;34m.\u001b[0m\u001b[0m__get_result\u001b[0m\u001b[0;34m(\u001b[0m\u001b[0;34m)\u001b[0m\u001b[0;34m\u001b[0m\u001b[0;34m\u001b[0m\u001b[0m\n\u001b[0m\u001b[1;32m    450\u001b[0m \u001b[0;34m\u001b[0m\u001b[0m\n\u001b[1;32m    451\u001b[0m                 \u001b[0mself\u001b[0m\u001b[0;34m.\u001b[0m\u001b[0m_condition\u001b[0m\u001b[0;34m.\u001b[0m\u001b[0mwait\u001b[0m\u001b[0;34m(\u001b[0m\u001b[0mtimeout\u001b[0m\u001b[0;34m)\u001b[0m\u001b[0;34m\u001b[0m\u001b[0;34m\u001b[0m\u001b[0m\n",
            "\u001b[0;32m/usr/lib/python3.12/concurrent/futures/_base.py\u001b[0m in \u001b[0;36m__get_result\u001b[0;34m(self)\u001b[0m\n\u001b[1;32m    399\u001b[0m         \u001b[0;32mif\u001b[0m \u001b[0mself\u001b[0m\u001b[0;34m.\u001b[0m\u001b[0m_exception\u001b[0m\u001b[0;34m:\u001b[0m\u001b[0;34m\u001b[0m\u001b[0;34m\u001b[0m\u001b[0m\n\u001b[1;32m    400\u001b[0m             \u001b[0;32mtry\u001b[0m\u001b[0;34m:\u001b[0m\u001b[0;34m\u001b[0m\u001b[0;34m\u001b[0m\u001b[0m\n\u001b[0;32m--> 401\u001b[0;31m                 \u001b[0;32mraise\u001b[0m \u001b[0mself\u001b[0m\u001b[0;34m.\u001b[0m\u001b[0m_exception\u001b[0m\u001b[0;34m\u001b[0m\u001b[0;34m\u001b[0m\u001b[0m\n\u001b[0m\u001b[1;32m    402\u001b[0m             \u001b[0;32mfinally\u001b[0m\u001b[0;34m:\u001b[0m\u001b[0;34m\u001b[0m\u001b[0;34m\u001b[0m\u001b[0m\n\u001b[1;32m    403\u001b[0m                 \u001b[0;31m# Break a reference cycle with the exception in self._exception\u001b[0m\u001b[0;34m\u001b[0m\u001b[0;34m\u001b[0m\u001b[0m\n",
            "\u001b[0;32m/usr/local/lib/python3.12/dist-packages/tenacity/__init__.py\u001b[0m in \u001b[0;36m__call__\u001b[0;34m(self, fn, *args, **kwargs)\u001b[0m\n\u001b[1;32m    476\u001b[0m             \u001b[0;32mif\u001b[0m \u001b[0misinstance\u001b[0m\u001b[0;34m(\u001b[0m\u001b[0mdo\u001b[0m\u001b[0;34m,\u001b[0m \u001b[0mDoAttempt\u001b[0m\u001b[0;34m)\u001b[0m\u001b[0;34m:\u001b[0m\u001b[0;34m\u001b[0m\u001b[0;34m\u001b[0m\u001b[0m\n\u001b[1;32m    477\u001b[0m                 \u001b[0;32mtry\u001b[0m\u001b[0;34m:\u001b[0m\u001b[0;34m\u001b[0m\u001b[0;34m\u001b[0m\u001b[0m\n\u001b[0;32m--> 478\u001b[0;31m                     \u001b[0mresult\u001b[0m \u001b[0;34m=\u001b[0m \u001b[0mfn\u001b[0m\u001b[0;34m(\u001b[0m\u001b[0;34m*\u001b[0m\u001b[0margs\u001b[0m\u001b[0;34m,\u001b[0m \u001b[0;34m**\u001b[0m\u001b[0mkwargs\u001b[0m\u001b[0;34m)\u001b[0m\u001b[0;34m\u001b[0m\u001b[0;34m\u001b[0m\u001b[0m\n\u001b[0m\u001b[1;32m    479\u001b[0m                 \u001b[0;32mexcept\u001b[0m \u001b[0mBaseException\u001b[0m\u001b[0;34m:\u001b[0m  \u001b[0;31m# noqa: B902\u001b[0m\u001b[0;34m\u001b[0m\u001b[0;34m\u001b[0m\u001b[0m\n\u001b[1;32m    480\u001b[0m                     \u001b[0mretry_state\u001b[0m\u001b[0;34m.\u001b[0m\u001b[0mset_exception\u001b[0m\u001b[0;34m(\u001b[0m\u001b[0msys\u001b[0m\u001b[0;34m.\u001b[0m\u001b[0mexc_info\u001b[0m\u001b[0;34m(\u001b[0m\u001b[0;34m)\u001b[0m\u001b[0;34m)\u001b[0m  \u001b[0;31m# type: ignore[arg-type]\u001b[0m\u001b[0;34m\u001b[0m\u001b[0;34m\u001b[0m\u001b[0m\n",
            "\u001b[0;32m/usr/local/lib/python3.12/dist-packages/langchain_google_genai/chat_models.py\u001b[0m in \u001b[0;36m_chat_with_retry\u001b[0;34m(**kwargs)\u001b[0m\n\u001b[1;32m    176\u001b[0m     \u001b[0;32mdef\u001b[0m \u001b[0m_chat_with_retry\u001b[0m\u001b[0;34m(\u001b[0m\u001b[0;34m**\u001b[0m\u001b[0mkwargs\u001b[0m\u001b[0;34m:\u001b[0m \u001b[0mAny\u001b[0m\u001b[0;34m)\u001b[0m \u001b[0;34m->\u001b[0m \u001b[0mAny\u001b[0m\u001b[0;34m:\u001b[0m\u001b[0;34m\u001b[0m\u001b[0;34m\u001b[0m\u001b[0m\n\u001b[1;32m    177\u001b[0m         \u001b[0;32mtry\u001b[0m\u001b[0;34m:\u001b[0m\u001b[0;34m\u001b[0m\u001b[0;34m\u001b[0m\u001b[0m\n\u001b[0;32m--> 178\u001b[0;31m             \u001b[0;32mreturn\u001b[0m \u001b[0mgeneration_method\u001b[0m\u001b[0;34m(\u001b[0m\u001b[0;34m**\u001b[0m\u001b[0mkwargs\u001b[0m\u001b[0;34m)\u001b[0m\u001b[0;34m\u001b[0m\u001b[0;34m\u001b[0m\u001b[0m\n\u001b[0m\u001b[1;32m    179\u001b[0m         \u001b[0;31m# Do not retry for these errors.\u001b[0m\u001b[0;34m\u001b[0m\u001b[0;34m\u001b[0m\u001b[0m\n\u001b[1;32m    180\u001b[0m         \u001b[0;32mexcept\u001b[0m \u001b[0mgoogle\u001b[0m\u001b[0;34m.\u001b[0m\u001b[0mapi_core\u001b[0m\u001b[0;34m.\u001b[0m\u001b[0mexceptions\u001b[0m\u001b[0;34m.\u001b[0m\u001b[0mFailedPrecondition\u001b[0m \u001b[0;32mas\u001b[0m \u001b[0mexc\u001b[0m\u001b[0;34m:\u001b[0m\u001b[0;34m\u001b[0m\u001b[0;34m\u001b[0m\u001b[0m\n",
            "\u001b[0;32m/usr/local/lib/python3.12/dist-packages/google/ai/generativelanguage_v1beta/services/generative_service/client.py\u001b[0m in \u001b[0;36mgenerate_content\u001b[0;34m(self, request, model, contents, retry, timeout, metadata)\u001b[0m\n\u001b[1;32m    833\u001b[0m \u001b[0;34m\u001b[0m\u001b[0m\n\u001b[1;32m    834\u001b[0m         \u001b[0;31m# Send the request.\u001b[0m\u001b[0;34m\u001b[0m\u001b[0;34m\u001b[0m\u001b[0m\n\u001b[0;32m--> 835\u001b[0;31m         response = rpc(\n\u001b[0m\u001b[1;32m    836\u001b[0m             \u001b[0mrequest\u001b[0m\u001b[0;34m,\u001b[0m\u001b[0;34m\u001b[0m\u001b[0;34m\u001b[0m\u001b[0m\n\u001b[1;32m    837\u001b[0m             \u001b[0mretry\u001b[0m\u001b[0;34m=\u001b[0m\u001b[0mretry\u001b[0m\u001b[0;34m,\u001b[0m\u001b[0;34m\u001b[0m\u001b[0;34m\u001b[0m\u001b[0m\n",
            "\u001b[0;32m/usr/local/lib/python3.12/dist-packages/google/api_core/gapic_v1/method.py\u001b[0m in \u001b[0;36m__call__\u001b[0;34m(self, timeout, retry, compression, *args, **kwargs)\u001b[0m\n\u001b[1;32m    129\u001b[0m             \u001b[0mkwargs\u001b[0m\u001b[0;34m[\u001b[0m\u001b[0;34m\"compression\"\u001b[0m\u001b[0;34m]\u001b[0m \u001b[0;34m=\u001b[0m \u001b[0mcompression\u001b[0m\u001b[0;34m\u001b[0m\u001b[0;34m\u001b[0m\u001b[0m\n\u001b[1;32m    130\u001b[0m \u001b[0;34m\u001b[0m\u001b[0m\n\u001b[0;32m--> 131\u001b[0;31m         \u001b[0;32mreturn\u001b[0m \u001b[0mwrapped_func\u001b[0m\u001b[0;34m(\u001b[0m\u001b[0;34m*\u001b[0m\u001b[0margs\u001b[0m\u001b[0;34m,\u001b[0m \u001b[0;34m**\u001b[0m\u001b[0mkwargs\u001b[0m\u001b[0;34m)\u001b[0m\u001b[0;34m\u001b[0m\u001b[0;34m\u001b[0m\u001b[0m\n\u001b[0m\u001b[1;32m    132\u001b[0m \u001b[0;34m\u001b[0m\u001b[0m\n\u001b[1;32m    133\u001b[0m \u001b[0;34m\u001b[0m\u001b[0m\n",
            "\u001b[0;32m/usr/local/lib/python3.12/dist-packages/google/api_core/retry/retry_unary.py\u001b[0m in \u001b[0;36mretry_wrapped_func\u001b[0;34m(*args, **kwargs)\u001b[0m\n\u001b[1;32m    292\u001b[0m                 \u001b[0mself\u001b[0m\u001b[0;34m.\u001b[0m\u001b[0m_initial\u001b[0m\u001b[0;34m,\u001b[0m \u001b[0mself\u001b[0m\u001b[0;34m.\u001b[0m\u001b[0m_maximum\u001b[0m\u001b[0;34m,\u001b[0m \u001b[0mmultiplier\u001b[0m\u001b[0;34m=\u001b[0m\u001b[0mself\u001b[0m\u001b[0;34m.\u001b[0m\u001b[0m_multiplier\u001b[0m\u001b[0;34m\u001b[0m\u001b[0;34m\u001b[0m\u001b[0m\n\u001b[1;32m    293\u001b[0m             )\n\u001b[0;32m--> 294\u001b[0;31m             return retry_target(\n\u001b[0m\u001b[1;32m    295\u001b[0m                 \u001b[0mtarget\u001b[0m\u001b[0;34m,\u001b[0m\u001b[0;34m\u001b[0m\u001b[0;34m\u001b[0m\u001b[0m\n\u001b[1;32m    296\u001b[0m                 \u001b[0mself\u001b[0m\u001b[0;34m.\u001b[0m\u001b[0m_predicate\u001b[0m\u001b[0;34m,\u001b[0m\u001b[0;34m\u001b[0m\u001b[0;34m\u001b[0m\u001b[0m\n",
            "\u001b[0;32m/usr/local/lib/python3.12/dist-packages/google/api_core/retry/retry_unary.py\u001b[0m in \u001b[0;36mretry_target\u001b[0;34m(target, predicate, sleep_generator, timeout, on_error, exception_factory, **kwargs)\u001b[0m\n\u001b[1;32m    145\u001b[0m     \u001b[0;32mwhile\u001b[0m \u001b[0;32mTrue\u001b[0m\u001b[0;34m:\u001b[0m\u001b[0;34m\u001b[0m\u001b[0;34m\u001b[0m\u001b[0m\n\u001b[1;32m    146\u001b[0m         \u001b[0;32mtry\u001b[0m\u001b[0;34m:\u001b[0m\u001b[0;34m\u001b[0m\u001b[0;34m\u001b[0m\u001b[0m\n\u001b[0;32m--> 147\u001b[0;31m             \u001b[0mresult\u001b[0m \u001b[0;34m=\u001b[0m \u001b[0mtarget\u001b[0m\u001b[0;34m(\u001b[0m\u001b[0;34m)\u001b[0m\u001b[0;34m\u001b[0m\u001b[0;34m\u001b[0m\u001b[0m\n\u001b[0m\u001b[1;32m    148\u001b[0m             \u001b[0;32mif\u001b[0m \u001b[0minspect\u001b[0m\u001b[0;34m.\u001b[0m\u001b[0misawaitable\u001b[0m\u001b[0;34m(\u001b[0m\u001b[0mresult\u001b[0m\u001b[0;34m)\u001b[0m\u001b[0;34m:\u001b[0m\u001b[0;34m\u001b[0m\u001b[0;34m\u001b[0m\u001b[0m\n\u001b[1;32m    149\u001b[0m                 \u001b[0mwarnings\u001b[0m\u001b[0;34m.\u001b[0m\u001b[0mwarn\u001b[0m\u001b[0;34m(\u001b[0m\u001b[0m_ASYNC_RETRY_WARNING\u001b[0m\u001b[0;34m)\u001b[0m\u001b[0;34m\u001b[0m\u001b[0;34m\u001b[0m\u001b[0m\n",
            "\u001b[0;32m/usr/local/lib/python3.12/dist-packages/google/api_core/timeout.py\u001b[0m in \u001b[0;36mfunc_with_timeout\u001b[0;34m(*args, **kwargs)\u001b[0m\n\u001b[1;32m    128\u001b[0m                 \u001b[0mkwargs\u001b[0m\u001b[0;34m[\u001b[0m\u001b[0;34m\"timeout\"\u001b[0m\u001b[0;34m]\u001b[0m \u001b[0;34m=\u001b[0m \u001b[0mremaining_timeout\u001b[0m\u001b[0;34m\u001b[0m\u001b[0;34m\u001b[0m\u001b[0m\n\u001b[1;32m    129\u001b[0m \u001b[0;34m\u001b[0m\u001b[0m\n\u001b[0;32m--> 130\u001b[0;31m             \u001b[0;32mreturn\u001b[0m \u001b[0mfunc\u001b[0m\u001b[0;34m(\u001b[0m\u001b[0;34m*\u001b[0m\u001b[0margs\u001b[0m\u001b[0;34m,\u001b[0m \u001b[0;34m**\u001b[0m\u001b[0mkwargs\u001b[0m\u001b[0;34m)\u001b[0m\u001b[0;34m\u001b[0m\u001b[0;34m\u001b[0m\u001b[0m\n\u001b[0m\u001b[1;32m    131\u001b[0m \u001b[0;34m\u001b[0m\u001b[0m\n\u001b[1;32m    132\u001b[0m         \u001b[0;32mreturn\u001b[0m \u001b[0mfunc_with_timeout\u001b[0m\u001b[0;34m\u001b[0m\u001b[0;34m\u001b[0m\u001b[0m\n",
            "\u001b[0;32m/usr/local/lib/python3.12/dist-packages/google/api_core/grpc_helpers.py\u001b[0m in \u001b[0;36merror_remapped_callable\u001b[0;34m(*args, **kwargs)\u001b[0m\n\u001b[1;32m     73\u001b[0m     \u001b[0;32mdef\u001b[0m \u001b[0merror_remapped_callable\u001b[0m\u001b[0;34m(\u001b[0m\u001b[0;34m*\u001b[0m\u001b[0margs\u001b[0m\u001b[0;34m,\u001b[0m \u001b[0;34m**\u001b[0m\u001b[0mkwargs\u001b[0m\u001b[0;34m)\u001b[0m\u001b[0;34m:\u001b[0m\u001b[0;34m\u001b[0m\u001b[0;34m\u001b[0m\u001b[0m\n\u001b[1;32m     74\u001b[0m         \u001b[0;32mtry\u001b[0m\u001b[0;34m:\u001b[0m\u001b[0;34m\u001b[0m\u001b[0;34m\u001b[0m\u001b[0m\n\u001b[0;32m---> 75\u001b[0;31m             \u001b[0;32mreturn\u001b[0m \u001b[0mcallable_\u001b[0m\u001b[0;34m(\u001b[0m\u001b[0;34m*\u001b[0m\u001b[0margs\u001b[0m\u001b[0;34m,\u001b[0m \u001b[0;34m**\u001b[0m\u001b[0mkwargs\u001b[0m\u001b[0;34m)\u001b[0m\u001b[0;34m\u001b[0m\u001b[0;34m\u001b[0m\u001b[0m\n\u001b[0m\u001b[1;32m     76\u001b[0m         \u001b[0;32mexcept\u001b[0m \u001b[0mgrpc\u001b[0m\u001b[0;34m.\u001b[0m\u001b[0mRpcError\u001b[0m \u001b[0;32mas\u001b[0m \u001b[0mexc\u001b[0m\u001b[0;34m:\u001b[0m\u001b[0;34m\u001b[0m\u001b[0;34m\u001b[0m\u001b[0m\n\u001b[1;32m     77\u001b[0m             \u001b[0;32mraise\u001b[0m \u001b[0mexceptions\u001b[0m\u001b[0;34m.\u001b[0m\u001b[0mfrom_grpc_error\u001b[0m\u001b[0;34m(\u001b[0m\u001b[0mexc\u001b[0m\u001b[0;34m)\u001b[0m \u001b[0;32mfrom\u001b[0m \u001b[0mexc\u001b[0m\u001b[0;34m\u001b[0m\u001b[0;34m\u001b[0m\u001b[0m\n",
            "\u001b[0;32m/usr/local/lib/python3.12/dist-packages/grpc/_interceptor.py\u001b[0m in \u001b[0;36m__call__\u001b[0;34m(self, request, timeout, metadata, credentials, wait_for_ready, compression)\u001b[0m\n\u001b[1;32m    275\u001b[0m         \u001b[0mcompression\u001b[0m\u001b[0;34m:\u001b[0m \u001b[0mOptional\u001b[0m\u001b[0;34m[\u001b[0m\u001b[0mgrpc\u001b[0m\u001b[0;34m.\u001b[0m\u001b[0mCompression\u001b[0m\u001b[0;34m]\u001b[0m \u001b[0;34m=\u001b[0m \u001b[0;32mNone\u001b[0m\u001b[0;34m,\u001b[0m\u001b[0;34m\u001b[0m\u001b[0;34m\u001b[0m\u001b[0m\n\u001b[1;32m    276\u001b[0m     ) -> Any:\n\u001b[0;32m--> 277\u001b[0;31m         response, ignored_call = self._with_call(\n\u001b[0m\u001b[1;32m    278\u001b[0m             \u001b[0mrequest\u001b[0m\u001b[0;34m,\u001b[0m\u001b[0;34m\u001b[0m\u001b[0;34m\u001b[0m\u001b[0m\n\u001b[1;32m    279\u001b[0m             \u001b[0mtimeout\u001b[0m\u001b[0;34m=\u001b[0m\u001b[0mtimeout\u001b[0m\u001b[0;34m,\u001b[0m\u001b[0;34m\u001b[0m\u001b[0;34m\u001b[0m\u001b[0m\n",
            "\u001b[0;32m/usr/local/lib/python3.12/dist-packages/grpc/_interceptor.py\u001b[0m in \u001b[0;36m_with_call\u001b[0;34m(self, request, timeout, metadata, credentials, wait_for_ready, compression)\u001b[0m\n\u001b[1;32m    327\u001b[0m                 \u001b[0;32mreturn\u001b[0m \u001b[0m_FailureOutcome\u001b[0m\u001b[0;34m(\u001b[0m\u001b[0mexception\u001b[0m\u001b[0;34m,\u001b[0m \u001b[0msys\u001b[0m\u001b[0;34m.\u001b[0m\u001b[0mexc_info\u001b[0m\u001b[0;34m(\u001b[0m\u001b[0;34m)\u001b[0m\u001b[0;34m[\u001b[0m\u001b[0;36m2\u001b[0m\u001b[0;34m]\u001b[0m\u001b[0;34m)\u001b[0m\u001b[0;34m\u001b[0m\u001b[0;34m\u001b[0m\u001b[0m\n\u001b[1;32m    328\u001b[0m \u001b[0;34m\u001b[0m\u001b[0m\n\u001b[0;32m--> 329\u001b[0;31m         call = self._interceptor.intercept_unary_unary(\n\u001b[0m\u001b[1;32m    330\u001b[0m             \u001b[0mcontinuation\u001b[0m\u001b[0;34m,\u001b[0m \u001b[0mclient_call_details\u001b[0m\u001b[0;34m,\u001b[0m \u001b[0mrequest\u001b[0m\u001b[0;34m\u001b[0m\u001b[0;34m\u001b[0m\u001b[0m\n\u001b[1;32m    331\u001b[0m         )\n",
            "\u001b[0;32m/usr/local/lib/python3.12/dist-packages/google/ai/generativelanguage_v1beta/services/generative_service/transports/grpc.py\u001b[0m in \u001b[0;36mintercept_unary_unary\u001b[0;34m(self, continuation, client_call_details, request)\u001b[0m\n\u001b[1;32m     77\u001b[0m             )\n\u001b[1;32m     78\u001b[0m \u001b[0;34m\u001b[0m\u001b[0m\n\u001b[0;32m---> 79\u001b[0;31m         \u001b[0mresponse\u001b[0m \u001b[0;34m=\u001b[0m \u001b[0mcontinuation\u001b[0m\u001b[0;34m(\u001b[0m\u001b[0mclient_call_details\u001b[0m\u001b[0;34m,\u001b[0m \u001b[0mrequest\u001b[0m\u001b[0;34m)\u001b[0m\u001b[0;34m\u001b[0m\u001b[0;34m\u001b[0m\u001b[0m\n\u001b[0m\u001b[1;32m     80\u001b[0m         \u001b[0;32mif\u001b[0m \u001b[0mlogging_enabled\u001b[0m\u001b[0;34m:\u001b[0m  \u001b[0;31m# pragma: NO COVER\u001b[0m\u001b[0;34m\u001b[0m\u001b[0;34m\u001b[0m\u001b[0m\n\u001b[1;32m     81\u001b[0m             \u001b[0mresponse_metadata\u001b[0m \u001b[0;34m=\u001b[0m \u001b[0mresponse\u001b[0m\u001b[0;34m.\u001b[0m\u001b[0mtrailing_metadata\u001b[0m\u001b[0;34m(\u001b[0m\u001b[0;34m)\u001b[0m\u001b[0;34m\u001b[0m\u001b[0;34m\u001b[0m\u001b[0m\n",
            "\u001b[0;32m/usr/local/lib/python3.12/dist-packages/grpc/_interceptor.py\u001b[0m in \u001b[0;36mcontinuation\u001b[0;34m(new_details, request)\u001b[0m\n\u001b[1;32m    313\u001b[0m             ) = _unwrap_client_call_details(new_details, client_call_details)\n\u001b[1;32m    314\u001b[0m             \u001b[0;32mtry\u001b[0m\u001b[0;34m:\u001b[0m\u001b[0;34m\u001b[0m\u001b[0;34m\u001b[0m\u001b[0m\n\u001b[0;32m--> 315\u001b[0;31m                 response, call = self._thunk(new_method).with_call(\n\u001b[0m\u001b[1;32m    316\u001b[0m                     \u001b[0mrequest\u001b[0m\u001b[0;34m,\u001b[0m\u001b[0;34m\u001b[0m\u001b[0;34m\u001b[0m\u001b[0m\n\u001b[1;32m    317\u001b[0m                     \u001b[0mtimeout\u001b[0m\u001b[0;34m=\u001b[0m\u001b[0mnew_timeout\u001b[0m\u001b[0;34m,\u001b[0m\u001b[0;34m\u001b[0m\u001b[0;34m\u001b[0m\u001b[0m\n",
            "\u001b[0;32m/usr/local/lib/python3.12/dist-packages/grpc/_channel.py\u001b[0m in \u001b[0;36mwith_call\u001b[0;34m(self, request, timeout, metadata, credentials, wait_for_ready, compression)\u001b[0m\n\u001b[1;32m   1190\u001b[0m         \u001b[0mcompression\u001b[0m\u001b[0;34m:\u001b[0m \u001b[0mOptional\u001b[0m\u001b[0;34m[\u001b[0m\u001b[0mgrpc\u001b[0m\u001b[0;34m.\u001b[0m\u001b[0mCompression\u001b[0m\u001b[0;34m]\u001b[0m \u001b[0;34m=\u001b[0m \u001b[0;32mNone\u001b[0m\u001b[0;34m,\u001b[0m\u001b[0;34m\u001b[0m\u001b[0;34m\u001b[0m\u001b[0m\n\u001b[1;32m   1191\u001b[0m     ) -> Tuple[Any, grpc.Call]:\n\u001b[0;32m-> 1192\u001b[0;31m         state, call = self._blocking(\n\u001b[0m\u001b[1;32m   1193\u001b[0m             \u001b[0mrequest\u001b[0m\u001b[0;34m,\u001b[0m \u001b[0mtimeout\u001b[0m\u001b[0;34m,\u001b[0m \u001b[0mmetadata\u001b[0m\u001b[0;34m,\u001b[0m \u001b[0mcredentials\u001b[0m\u001b[0;34m,\u001b[0m \u001b[0mwait_for_ready\u001b[0m\u001b[0;34m,\u001b[0m \u001b[0mcompression\u001b[0m\u001b[0;34m\u001b[0m\u001b[0;34m\u001b[0m\u001b[0m\n\u001b[1;32m   1194\u001b[0m         )\n",
            "\u001b[0;32m/usr/local/lib/python3.12/dist-packages/grpc/_channel.py\u001b[0m in \u001b[0;36m_blocking\u001b[0;34m(self, request, timeout, metadata, credentials, wait_for_ready, compression)\u001b[0m\n\u001b[1;32m   1163\u001b[0m                 \u001b[0mself\u001b[0m\u001b[0;34m.\u001b[0m\u001b[0m_registered_call_handle\u001b[0m\u001b[0;34m,\u001b[0m\u001b[0;34m\u001b[0m\u001b[0;34m\u001b[0m\u001b[0m\n\u001b[1;32m   1164\u001b[0m             )\n\u001b[0;32m-> 1165\u001b[0;31m             \u001b[0mevent\u001b[0m \u001b[0;34m=\u001b[0m \u001b[0mcall\u001b[0m\u001b[0;34m.\u001b[0m\u001b[0mnext_event\u001b[0m\u001b[0;34m(\u001b[0m\u001b[0;34m)\u001b[0m\u001b[0;34m\u001b[0m\u001b[0;34m\u001b[0m\u001b[0m\n\u001b[0m\u001b[1;32m   1166\u001b[0m             \u001b[0m_handle_event\u001b[0m\u001b[0;34m(\u001b[0m\u001b[0mevent\u001b[0m\u001b[0;34m,\u001b[0m \u001b[0mstate\u001b[0m\u001b[0;34m,\u001b[0m \u001b[0mself\u001b[0m\u001b[0;34m.\u001b[0m\u001b[0m_response_deserializer\u001b[0m\u001b[0;34m)\u001b[0m\u001b[0;34m\u001b[0m\u001b[0;34m\u001b[0m\u001b[0m\n\u001b[1;32m   1167\u001b[0m             \u001b[0;32mreturn\u001b[0m \u001b[0mstate\u001b[0m\u001b[0;34m,\u001b[0m \u001b[0mcall\u001b[0m\u001b[0;34m\u001b[0m\u001b[0;34m\u001b[0m\u001b[0m\n",
            "\u001b[0;32msrc/python/grpcio/grpc/_cython/_cygrpc/channel.pyx.pxi\u001b[0m in \u001b[0;36mgrpc._cython.cygrpc.SegregatedCall.next_event\u001b[0;34m()\u001b[0m\n",
            "\u001b[0;32msrc/python/grpcio/grpc/_cython/_cygrpc/channel.pyx.pxi\u001b[0m in \u001b[0;36mgrpc._cython.cygrpc._next_call_event\u001b[0;34m()\u001b[0m\n",
            "\u001b[0;32msrc/python/grpcio/grpc/_cython/_cygrpc/channel.pyx.pxi\u001b[0m in \u001b[0;36mgrpc._cython.cygrpc._next_call_event\u001b[0;34m()\u001b[0m\n",
            "\u001b[0;32msrc/python/grpcio/grpc/_cython/_cygrpc/completion_queue.pyx.pxi\u001b[0m in \u001b[0;36mgrpc._cython.cygrpc._latent_event\u001b[0;34m()\u001b[0m\n",
            "\u001b[0;32msrc/python/grpcio/grpc/_cython/_cygrpc/completion_queue.pyx.pxi\u001b[0m in \u001b[0;36mgrpc._cython.cygrpc._internal_latent_event\u001b[0;34m()\u001b[0m\n",
            "\u001b[0;32msrc/python/grpcio/grpc/_cython/_cygrpc/completion_queue.pyx.pxi\u001b[0m in \u001b[0;36mgrpc._cython.cygrpc._next\u001b[0;34m()\u001b[0m\n",
            "\u001b[0;31mKeyboardInterrupt\u001b[0m: "
          ]
        }
      ],
      "source": [
        "# Try your own\n",
        "result = agent.invoke(\n",
        "    {\n",
        "        \"messages\": [\n",
        "            {\n",
        "                \"role\": \"user\",\n",
        "                \"content\": \"What is ...?\",\n",
        "            }\n",
        "        ],\n",
        "    }\n",
        ")\n",
        "\n",
        "# format_messages(result[\"messages\"]) # Removed call\n",
        "display(result)"
      ]
    },
    {
      "cell_type": "markdown",
      "id": "146bef29-b1f2-45e1-883b-5fc51f6d54df",
      "metadata": {
        "id": "146bef29-b1f2-45e1-883b-5fc51f6d54df"
      },
      "source": [
        "### Access and modify state within tools\n",
        "#### State\n",
        "One of the nice features of LangGraph is state. The graph has a typed data structure that is available to each node for the duration of the graph and can be persisted in long-term storage. You can use this to store information to share between nodes, to debug the graph, and to reset a long-running graph to an earlier time.\n",
        "\n",
        "When you define state for a graph, you define the data types and a 'reducer' function. The reducer describes how information is added to that element. This is especially useful when a task is mapped to multiple nodes, which are executed in parallel and update state simultaneously.\n",
        "\n",
        "In this example, the default `AgentState` was used. This is defined in [langgraph.prebuilt.chat_agent_executor](https://github.com/langchain-ai/langgraph/blob/e365b2b8bd695e03d758b19ff109152b2e342a87/libs/prebuilt/langgraph/prebuilt/chat_agent_executor.py).   \n",
        "\n",
        "```python\n",
        "    class AgentState(TypedDict):\n",
        "        \"\"\"The state of the agent.\"\"\"\n",
        "        messages: Annotated[Sequence[BaseMessage], add_messages]\n",
        "        remaining_steps: NotRequired[RemainingSteps]\n",
        "```\n",
        "        \n",
        "- `messages` are a list of `BaseMessage`, defined in [langchain_core](https://github.com/langchain-ai/langchain/blob/088095b663993b1e53cf616e1ca487d1739b0d71/libs/core/langchain_core/messages/base.py), which contains the messages to and from the LLM.\n",
        "    - typing.Annotated allows you to attach arbitrary metadata to a type hint. Syntax: Annotated[Type, metadata1, metadata2, ...]\n",
        "- The `add_messages` reducer will append new messages to the end of the message list.  \n",
        "- `remaining_steps` tracks the steps in a graph. You will see this initialized as the `recursion_limit`, but is tracked by the graph and not visibile to the user.  \n",
        "Let's take a look at this quickly."
      ]
    },
    {
      "cell_type": "code",
      "execution_count": null,
      "id": "35787543-06dc-43cb-8f18-2abbf7bf3b07",
      "metadata": {
        "id": "35787543-06dc-43cb-8f18-2abbf7bf3b07",
        "outputId": "729871e8-5b16-4d29-f33c-383afe20a99a"
      },
      "outputs": [
        {
          "data": {
            "application/json": {
              "messages": [
                {
                  "data": {
                    "additional_kwargs": {},
                    "content": "What is 3.1 * 4.2?",
                    "example": false,
                    "id": "d684b250-69b3-4b5b-8796-3f5a0e0d6cb2",
                    "name": null,
                    "response_metadata": {},
                    "type": "human"
                  },
                  "type": "human"
                },
                {
                  "data": {
                    "additional_kwargs": {
                      "refusal": null,
                      "tool_calls": [
                        {
                          "function": {
                            "arguments": "{\"operation\":\"multiply\",\"a\":3.1,\"b\":4.2}",
                            "name": "calculator"
                          },
                          "id": "call_S7UsKcWI1S1I3Fxh4M3Zj0PJ",
                          "type": "function"
                        }
                      ]
                    },
                    "content": "",
                    "example": false,
                    "id": "run--eafa8352-8dd2-4c46-acde-0b229198c152-0",
                    "invalid_tool_calls": [],
                    "name": null,
                    "response_metadata": {
                      "finish_reason": "tool_calls",
                      "id": "chatcmpl-CEdpWwTcRUv0seTzBzfnRPEI3LrNL",
                      "logprobs": null,
                      "model_name": "gpt-4.1-mini-2025-04-14",
                      "service_tier": "default",
                      "system_fingerprint": "fp_ed35aa4f5f",
                      "token_usage": {
                        "completion_tokens": 26,
                        "completion_tokens_details": {
                          "accepted_prediction_tokens": 0,
                          "audio_tokens": 0,
                          "reasoning_tokens": 0,
                          "rejected_prediction_tokens": 0
                        },
                        "prompt_tokens": 175,
                        "prompt_tokens_details": {
                          "audio_tokens": 0,
                          "cached_tokens": 0
                        },
                        "total_tokens": 201
                      }
                    },
                    "tool_calls": [
                      {
                        "args": {
                          "a": 3.1,
                          "b": 4.2,
                          "operation": "multiply"
                        },
                        "id": "call_S7UsKcWI1S1I3Fxh4M3Zj0PJ",
                        "name": "calculator",
                        "type": "tool_call"
                      }
                    ],
                    "type": "ai",
                    "usage_metadata": {
                      "input_token_details": {
                        "audio": 0,
                        "cache_read": 0
                      },
                      "input_tokens": 175,
                      "output_token_details": {
                        "audio": 0,
                        "reasoning": 0
                      },
                      "output_tokens": 26,
                      "total_tokens": 201
                    }
                  },
                  "type": "ai"
                },
                {
                  "data": {
                    "additional_kwargs": {},
                    "artifact": null,
                    "content": "13.020000000000001",
                    "id": "84566fa8-99bc-445a-a30f-ac725f163cd7",
                    "name": "calculator",
                    "response_metadata": {},
                    "status": "success",
                    "tool_call_id": "call_S7UsKcWI1S1I3Fxh4M3Zj0PJ",
                    "type": "tool"
                  },
                  "type": "tool"
                },
                {
                  "data": {
                    "additional_kwargs": {
                      "refusal": null
                    },
                    "content": "3.1 multiplied by 4.2 is 13.02.",
                    "example": false,
                    "id": "run--30db48ed-4979-4eed-a228-b34e03487153-0",
                    "invalid_tool_calls": [],
                    "name": null,
                    "response_metadata": {
                      "finish_reason": "stop",
                      "id": "chatcmpl-CEdpYXdNBD7aQvMujRlAbfmexktrA",
                      "logprobs": null,
                      "model_name": "gpt-4.1-mini-2025-04-14",
                      "service_tier": "default",
                      "system_fingerprint": "fp_ed35aa4f5f",
                      "token_usage": {
                        "completion_tokens": 16,
                        "completion_tokens_details": {
                          "accepted_prediction_tokens": 0,
                          "audio_tokens": 0,
                          "reasoning_tokens": 0,
                          "rejected_prediction_tokens": 0
                        },
                        "prompt_tokens": 215,
                        "prompt_tokens_details": {
                          "audio_tokens": 0,
                          "cached_tokens": 0
                        },
                        "total_tokens": 231
                      }
                    },
                    "tool_calls": [],
                    "type": "ai",
                    "usage_metadata": {
                      "input_token_details": {
                        "audio": 0,
                        "cache_read": 0
                      },
                      "input_tokens": 215,
                      "output_token_details": {
                        "audio": 0,
                        "reasoning": 0
                      },
                      "output_tokens": 16,
                      "total_tokens": 231
                    }
                  },
                  "type": "ai"
                }
              ]
            },
            "text/plain": [
              "<IPython.core.display.JSON object>"
            ]
          },
          "execution_count": 7,
          "metadata": {
            "application/json": {
              "expanded": false,
              "root": "root"
            }
          },
          "output_type": "execute_result"
        }
      ],
      "source": [
        "from IPython.display import JSON\n",
        "from langchain_core.messages import messages_to_dict\n",
        "\n",
        "JSON({\"messages\": messages_to_dict(result1[\"messages\"])})"
      ]
    },
    {
      "cell_type": "markdown",
      "id": "4720982e-16c2-4b90-84d6-94aba6a13e04",
      "metadata": {
        "id": "4720982e-16c2-4b90-84d6-94aba6a13e04"
      },
      "source": [
        "#### Custom State\n",
        "Let's extend our calculator to keep a list of all of the operations that have been performed. This will require adding a list to state, and a reducer function to add the state to the list. This will safely handle the case where the list or operation is empty."
      ]
    },
    {
      "cell_type": "code",
      "execution_count": null,
      "id": "1ea8d331-3e9c-4195-99a1-fa5cf6659c11",
      "metadata": {
        "id": "1ea8d331-3e9c-4195-99a1-fa5cf6659c11"
      },
      "outputs": [],
      "source": [
        "from langgraph.prebuilt.chat_agent_executor import AgentState\n",
        "\n",
        "\n",
        "def reduce_list(left: list | None, right: list | None) -> list:\n",
        "    \"\"\"Safely combine two lists, handling cases where either or both inputs might be None.\n",
        "\n",
        "    Args:\n",
        "        left (list | None): The first list to combine, or None.\n",
        "        right (list | None): The second list to combine, or None.\n",
        "\n",
        "    Returns:\n",
        "        list: A new list containing all elements from both input lists.\n",
        "               If an input is None, it's treated as an empty list.\n",
        "    \"\"\"\n",
        "    if not left:\n",
        "        left = []\n",
        "    if not right:\n",
        "        right = []\n",
        "    return left + right\n",
        "\n",
        "class CalcState(AgentState):\n",
        "    \"\"\"Graph State.\"\"\"\n",
        "    ops: Annotated[List[str], reduce_list]\n"
      ]
    },
    {
      "cell_type": "markdown",
      "id": "aebd4660-83b9-4a23-9108-a03cbd26877a",
      "metadata": {
        "id": "aebd4660-83b9-4a23-9108-a03cbd26877a"
      },
      "source": [
        "#### Accessing State\n",
        "Now, we can extend our calculator to include the update. This highlights an issue! Now state is an argument to our calculator tool.\n",
        "<img src=\"https://github.com/langchain-ai/deep-agents-from-scratch/blob/main/notebooks/assets/state_arg_diagram.png?raw=1\" width=\"800\" style=\"display:block; margin-left:0;\">\n",
        "In the diagram, it's clear that, while the LLM is tasked with generating the tool call, it cannot form the `state` argument as it does not have that in its context!  \n",
        "The solution is to **inject the state** after the LLM.\n",
        "<img src=\"https://github.com/langchain-ai/deep-agents-from-scratch/blob/main/notebooks/assets/inject_state_diagram.png?raw=1\" width=\"1000\" style=\"display:block; margin-left:0;\">"
      ]
    },
    {
      "cell_type": "markdown",
      "id": "a01aea69-1704-48ff-b33d-7484e35a691b",
      "metadata": {
        "id": "a01aea69-1704-48ff-b33d-7484e35a691b"
      },
      "source": [
        "<div style=\"margin:0; padding:0\">\n",
        "  <p style=\"margin:0;\">This is accomplished with the <code>InjectedState</code> annotation as shown below.</p>\n",
        "  <pre style=\"font-size:0.90em; margin:0; padding-top:0;\">\n",
        "<code class=\"language-python\">    @tool\n",
        "    def calculator_wstate(\n",
        "        operation: Literal[\"add\",\"subtract\",\"multiply\",\"divide\"],\n",
        "        a: Union[int, float],\n",
        "        b: Union[int, float],\n",
        "        <span style=\"background:#fff3a3; padding:0 2px;\">state: Annotated[CalcState, InjectedState],</span>  # ← not sent to LLM\n",
        "        <span style=\"background:#fff3a3; padding:0 2px;\">tool_call_id: Annotated[str, InjectedToolCallId],</span>  # ← not sent to LLM\n",
        "    ) -> Union[int, float]:\n",
        "</code></pre>\n",
        "<p style=\"margin:0; padding-top:4px;\">\n",
        "    This strips <code>state</code> from the description provided to the LLM, and injects it when calling the tool in <code>ToolNode</code>. the <code>tool_call_id</code> is also included. This is explained in the next section.\n",
        "  </p>\n",
        "</div>"
      ]
    },
    {
      "cell_type": "markdown",
      "id": "7dcaea07-fa1b-4b1a-bd1f-c7e77a6fe451",
      "metadata": {
        "id": "7dcaea07-fa1b-4b1a-bd1f-c7e77a6fe451"
      },
      "source": [
        "#### Updating State\n",
        "You may recall that tools typically return their observations to the LLM in a `ToolMessage` that is included in `messages` field in state. To update additional members of state, we would like to extend this update.  This is done using `Command` as in the return below.\n",
        "```python\n",
        "    return Command(\n",
        "        update={\n",
        "            \"ops\": ops,\n",
        "            \"messages\": [\n",
        "                ToolMessage(f\"{result}\", tool_call_id=tool_call_id)\n",
        "            ]})\n",
        "```\n",
        "Note that to create a `ToolMessage` we needed the `tool_call_id`."
      ]
    },
    {
      "cell_type": "code",
      "execution_count": null,
      "id": "b52ed717-9390-437d-991c-1df0d9a337e9",
      "metadata": {
        "id": "b52ed717-9390-437d-991c-1df0d9a337e9"
      },
      "outputs": [],
      "source": [
        "@tool\n",
        "def calculator_wstate(\n",
        "    operation: Literal[\"add\",\"subtract\",\"multiply\",\"divide\"],\n",
        "    a: Union[int, float],\n",
        "    b: Union[int, float],\n",
        "    state: Annotated[CalcState, InjectedState],   # not sent to LLM\n",
        "    tool_call_id: Annotated[str, InjectedToolCallId] # not sent to LLM\n",
        ") -> Union[int, float]:\n",
        "    \"\"\"Define a two-input calculator tool.\n",
        "\n",
        "    Arg:\n",
        "        operation (str): The operation to perform ('add', 'subtract', 'multiply', 'divide').\n",
        "        a (float or int): The first number.\n",
        "        b (float or int): The second number.\n",
        "\n",
        "    Returns:\n",
        "        result (float or int): the result of the operation\n",
        "    Example\n",
        "        Divide: result   = a / b\n",
        "        Subtract: result = a - b\n",
        "    \"\"\"\n",
        "    if operation == 'divide' and b == 0:\n",
        "        return {\"error\": \"Division by zero is not allowed.\"}\n",
        "\n",
        "    # Perform calculation\n",
        "    if operation == 'add':\n",
        "        result = a + b\n",
        "    elif operation == 'subtract':\n",
        "        result = a - b\n",
        "    elif operation == 'multiply':\n",
        "        result = a * b\n",
        "    elif operation == 'divide':\n",
        "        result = a / b\n",
        "    else:\n",
        "        result = \"unknown operation\"\n",
        "    ops = [f\"({operation}, {a}, {b}),\" ]\n",
        "    return Command(\n",
        "        update={\n",
        "            \"ops\": ops,\n",
        "            \"messages\": [\n",
        "                ToolMessage(f\"{result}\", tool_call_id=tool_call_id)\n",
        "            ],\n",
        "        }\n",
        "    )\n",
        "\n"
      ]
    },
    {
      "cell_type": "code",
      "execution_count": null,
      "id": "fe5163b6-673a-4e01-a226-34c9924f837f",
      "metadata": {
        "id": "fe5163b6-673a-4e01-a226-34c9924f837f"
      },
      "outputs": [],
      "source": [
        "SYSTEM_PROMPT = \"You are a helpful arithmetic assistant who is an expert at using a calculator.\"\n",
        "\n",
        "model = init_chat_model(model=\"openai:gpt-4o-mini\", temperature=0.0)\n",
        "tools = [calculator_wstate]  # new tool\n",
        "\n",
        "# Create agent\n",
        "agent = create_react_agent(\n",
        "    model,\n",
        "    tools,\n",
        "    prompt=SYSTEM_PROMPT,\n",
        "    state_schema=CalcState,  # now defining state scheme\n",
        ").with_config({\"recursion_limit\": 20})  #recursion_limit limits the number of steps the agent will run"
      ]
    },
    {
      "cell_type": "code",
      "execution_count": null,
      "id": "f666a44a-ada6-4d64-9dfd-39dfa04533b2",
      "metadata": {
        "id": "f666a44a-ada6-4d64-9dfd-39dfa04533b2",
        "outputId": "ca34ab16-5d13-4bf4-ab02-0c3f08467f15"
      },
      "outputs": [
        {
          "data": {
            "text/html": [
              "<pre style=\"white-space:pre;overflow-x:auto;line-height:normal;font-family:Menlo,'DejaVu Sans Mono',consolas,'Courier New',monospace\"><span style=\"color: #000080; text-decoration-color: #000080\">╭─────────────────────────────────────────────────── 🧑 Human ────────────────────────────────────────────────────╮</span>\n",
              "<span style=\"color: #000080; text-decoration-color: #000080\">│</span> What is 3.1 * 4.2?                                                                                              <span style=\"color: #000080; text-decoration-color: #000080\">│</span>\n",
              "<span style=\"color: #000080; text-decoration-color: #000080\">╰─────────────────────────────────────────────────────────────────────────────────────────────────────────────────╯</span>\n",
              "</pre>\n"
            ],
            "text/plain": [
              "\u001b[34m╭─\u001b[0m\u001b[34m──────────────────────────────────────────────────\u001b[0m\u001b[34m 🧑 Human \u001b[0m\u001b[34m───────────────────────────────────────────────────\u001b[0m\u001b[34m─╮\u001b[0m\n",
              "\u001b[34m│\u001b[0m What is 3.1 * 4.2?                                                                                              \u001b[34m│\u001b[0m\n",
              "\u001b[34m╰─────────────────────────────────────────────────────────────────────────────────────────────────────────────────╯\u001b[0m\n"
            ]
          },
          "metadata": {},
          "output_type": "display_data"
        },
        {
          "data": {
            "text/html": [
              "<pre style=\"white-space:pre;overflow-x:auto;line-height:normal;font-family:Menlo,'DejaVu Sans Mono',consolas,'Courier New',monospace\"><span style=\"color: #c0c0c0; text-decoration-color: #c0c0c0\">╭───────────────────────────────────────────────────── 📝 AI ─────────────────────────────────────────────────────╮</span>\n",
              "<span style=\"color: #c0c0c0; text-decoration-color: #c0c0c0\">│</span>                                                                                                                 <span style=\"color: #c0c0c0; text-decoration-color: #c0c0c0\">│</span>\n",
              "<span style=\"color: #c0c0c0; text-decoration-color: #c0c0c0\">│</span>                                                                                                                 <span style=\"color: #c0c0c0; text-decoration-color: #c0c0c0\">│</span>\n",
              "<span style=\"color: #c0c0c0; text-decoration-color: #c0c0c0\">│</span> 🔧 Tool Call: calculator_wstate                                                                                 <span style=\"color: #c0c0c0; text-decoration-color: #c0c0c0\">│</span>\n",
              "<span style=\"color: #c0c0c0; text-decoration-color: #c0c0c0\">│</span>    Args: {                                                                                                      <span style=\"color: #c0c0c0; text-decoration-color: #c0c0c0\">│</span>\n",
              "<span style=\"color: #c0c0c0; text-decoration-color: #c0c0c0\">│</span>   \"operation\": \"multiply\",                                                                                      <span style=\"color: #c0c0c0; text-decoration-color: #c0c0c0\">│</span>\n",
              "<span style=\"color: #c0c0c0; text-decoration-color: #c0c0c0\">│</span>   \"a\": 3.1,                                                                                                     <span style=\"color: #c0c0c0; text-decoration-color: #c0c0c0\">│</span>\n",
              "<span style=\"color: #c0c0c0; text-decoration-color: #c0c0c0\">│</span>   \"b\": 4.2                                                                                                      <span style=\"color: #c0c0c0; text-decoration-color: #c0c0c0\">│</span>\n",
              "<span style=\"color: #c0c0c0; text-decoration-color: #c0c0c0\">│</span> }                                                                                                               <span style=\"color: #c0c0c0; text-decoration-color: #c0c0c0\">│</span>\n",
              "<span style=\"color: #c0c0c0; text-decoration-color: #c0c0c0\">│</span>    ID: call_yunASavKVXHP9QO1PiIsjfe1                                                                            <span style=\"color: #c0c0c0; text-decoration-color: #c0c0c0\">│</span>\n",
              "<span style=\"color: #c0c0c0; text-decoration-color: #c0c0c0\">╰─────────────────────────────────────────────────────────────────────────────────────────────────────────────────╯</span>\n",
              "</pre>\n"
            ],
            "text/plain": [
              "\u001b[37m╭─\u001b[0m\u001b[37m────────────────────────────────────────────────────\u001b[0m\u001b[37m 📝 AI \u001b[0m\u001b[37m────────────────────────────────────────────────────\u001b[0m\u001b[37m─╮\u001b[0m\n",
              "\u001b[37m│\u001b[0m                                                                                                                 \u001b[37m│\u001b[0m\n",
              "\u001b[37m│\u001b[0m                                                                                                                 \u001b[37m│\u001b[0m\n",
              "\u001b[37m│\u001b[0m 🔧 Tool Call: calculator_wstate                                                                                 \u001b[37m│\u001b[0m\n",
              "\u001b[37m│\u001b[0m    Args: {                                                                                                      \u001b[37m│\u001b[0m\n",
              "\u001b[37m│\u001b[0m   \"operation\": \"multiply\",                                                                                      \u001b[37m│\u001b[0m\n",
              "\u001b[37m│\u001b[0m   \"a\": 3.1,                                                                                                     \u001b[37m│\u001b[0m\n",
              "\u001b[37m│\u001b[0m   \"b\": 4.2                                                                                                      \u001b[37m│\u001b[0m\n",
              "\u001b[37m│\u001b[0m }                                                                                                               \u001b[37m│\u001b[0m\n",
              "\u001b[37m│\u001b[0m    ID: call_yunASavKVXHP9QO1PiIsjfe1                                                                            \u001b[37m│\u001b[0m\n",
              "\u001b[37m╰─────────────────────────────────────────────────────────────────────────────────────────────────────────────────╯\u001b[0m\n"
            ]
          },
          "metadata": {},
          "output_type": "display_data"
        },
        {
          "data": {
            "text/html": [
              "<pre style=\"white-space:pre;overflow-x:auto;line-height:normal;font-family:Menlo,'DejaVu Sans Mono',consolas,'Courier New',monospace\"><span style=\"color: #808000; text-decoration-color: #808000\">╭──────────────────────────────────────────────── 🔧 Tool Output ─────────────────────────────────────────────────╮</span>\n",
              "<span style=\"color: #808000; text-decoration-color: #808000\">│</span> 13.020000000000001                                                                                              <span style=\"color: #808000; text-decoration-color: #808000\">│</span>\n",
              "<span style=\"color: #808000; text-decoration-color: #808000\">╰─────────────────────────────────────────────────────────────────────────────────────────────────────────────────╯</span>\n",
              "</pre>\n"
            ],
            "text/plain": [
              "\u001b[33m╭─\u001b[0m\u001b[33m───────────────────────────────────────────────\u001b[0m\u001b[33m 🔧 Tool Output \u001b[0m\u001b[33m────────────────────────────────────────────────\u001b[0m\u001b[33m─╮\u001b[0m\n",
              "\u001b[33m│\u001b[0m 13.020000000000001                                                                                              \u001b[33m│\u001b[0m\n",
              "\u001b[33m╰─────────────────────────────────────────────────────────────────────────────────────────────────────────────────╯\u001b[0m\n"
            ]
          },
          "metadata": {},
          "output_type": "display_data"
        },
        {
          "data": {
            "text/html": [
              "<pre style=\"white-space:pre;overflow-x:auto;line-height:normal;font-family:Menlo,'DejaVu Sans Mono',consolas,'Courier New',monospace\"><span style=\"color: #c0c0c0; text-decoration-color: #c0c0c0\">╭───────────────────────────────────────────────────── 📝 AI ─────────────────────────────────────────────────────╮</span>\n",
              "<span style=\"color: #c0c0c0; text-decoration-color: #c0c0c0\">│</span> The result of \\( 3.1 \\times 4.2 \\) is approximately \\( 13.02 \\).                                                <span style=\"color: #c0c0c0; text-decoration-color: #c0c0c0\">│</span>\n",
              "<span style=\"color: #c0c0c0; text-decoration-color: #c0c0c0\">╰─────────────────────────────────────────────────────────────────────────────────────────────────────────────────╯</span>\n",
              "</pre>\n"
            ],
            "text/plain": [
              "\u001b[37m╭─\u001b[0m\u001b[37m────────────────────────────────────────────────────\u001b[0m\u001b[37m 📝 AI \u001b[0m\u001b[37m────────────────────────────────────────────────────\u001b[0m\u001b[37m─╮\u001b[0m\n",
              "\u001b[37m│\u001b[0m The result of \\( 3.1 \\times 4.2 \\) is approximately \\( 13.02 \\).                                                \u001b[37m│\u001b[0m\n",
              "\u001b[37m╰─────────────────────────────────────────────────────────────────────────────────────────────────────────────────╯\u001b[0m\n"
            ]
          },
          "metadata": {},
          "output_type": "display_data"
        }
      ],
      "source": [
        "# Example usage\n",
        "result2 = agent.invoke(\n",
        "    {\n",
        "        \"messages\": [\n",
        "            {\n",
        "                \"role\": \"user\",\n",
        "                \"content\": \"What is 3.1 * 4.2?\",\n",
        "            }\n",
        "        ],\n",
        "    }\n",
        ")\n",
        "\n",
        "format_messages(result2[\"messages\"])"
      ]
    },
    {
      "cell_type": "code",
      "execution_count": null,
      "id": "8a55b1e3-ccba-4899-bbd3-6ab5fb729716",
      "metadata": {
        "id": "8a55b1e3-ccba-4899-bbd3-6ab5fb729716",
        "outputId": "9534df11-ca9a-40ff-fa28-97bf8026d863"
      },
      "outputs": [
        {
          "data": {
            "application/json": {
              "messages": [
                [
                  [
                    "content",
                    "What is 3.1 * 4.2?"
                  ],
                  [
                    "additional_kwargs",
                    {}
                  ],
                  [
                    "response_metadata",
                    {}
                  ],
                  [
                    "type",
                    "human"
                  ],
                  [
                    "name",
                    null
                  ],
                  [
                    "id",
                    "ce033240-80ca-4324-8542-c966826b4c5a"
                  ],
                  [
                    "example",
                    false
                  ]
                ],
                [
                  [
                    "content",
                    ""
                  ],
                  [
                    "additional_kwargs",
                    {
                      "refusal": null,
                      "tool_calls": [
                        {
                          "function": {
                            "arguments": "{\"operation\":\"multiply\",\"a\":3.1,\"b\":4.2}",
                            "name": "calculator_wstate"
                          },
                          "id": "call_yunASavKVXHP9QO1PiIsjfe1",
                          "type": "function"
                        }
                      ]
                    }
                  ],
                  [
                    "response_metadata",
                    {
                      "finish_reason": "tool_calls",
                      "id": "chatcmpl-CEdpdachhuspjN3nOasjBkVNOhrpW",
                      "logprobs": null,
                      "model_name": "gpt-4o-mini-2024-07-18",
                      "service_tier": "default",
                      "system_fingerprint": "fp_8bda4d3a2c",
                      "token_usage": {
                        "completion_tokens": 28,
                        "completion_tokens_details": {
                          "accepted_prediction_tokens": 0,
                          "audio_tokens": 0,
                          "reasoning_tokens": 0,
                          "rejected_prediction_tokens": 0
                        },
                        "prompt_tokens": 177,
                        "prompt_tokens_details": {
                          "audio_tokens": 0,
                          "cached_tokens": 0
                        },
                        "total_tokens": 205
                      }
                    }
                  ],
                  [
                    "type",
                    "ai"
                  ],
                  [
                    "name",
                    null
                  ],
                  [
                    "id",
                    "run--3f8449bc-08e4-4980-9ec9-0d11a7e109d1-0"
                  ],
                  [
                    "example",
                    false
                  ],
                  [
                    "tool_calls",
                    [
                      {
                        "args": {
                          "a": 3.1,
                          "b": 4.2,
                          "operation": "multiply"
                        },
                        "id": "call_yunASavKVXHP9QO1PiIsjfe1",
                        "name": "calculator_wstate",
                        "type": "tool_call"
                      }
                    ]
                  ],
                  [
                    "invalid_tool_calls",
                    []
                  ],
                  [
                    "usage_metadata",
                    {
                      "input_token_details": {
                        "audio": 0,
                        "cache_read": 0
                      },
                      "input_tokens": 177,
                      "output_token_details": {
                        "audio": 0,
                        "reasoning": 0
                      },
                      "output_tokens": 28,
                      "total_tokens": 205
                    }
                  ]
                ],
                [
                  [
                    "content",
                    "13.020000000000001"
                  ],
                  [
                    "additional_kwargs",
                    {}
                  ],
                  [
                    "response_metadata",
                    {}
                  ],
                  [
                    "type",
                    "tool"
                  ],
                  [
                    "name",
                    "calculator_wstate"
                  ],
                  [
                    "id",
                    "a5ce5b2e-cae6-4bc3-b64e-47a365abcdd1"
                  ],
                  [
                    "tool_call_id",
                    "call_yunASavKVXHP9QO1PiIsjfe1"
                  ],
                  [
                    "artifact",
                    null
                  ],
                  [
                    "status",
                    "success"
                  ]
                ],
                [
                  [
                    "content",
                    "The result of \\( 3.1 \\times 4.2 \\) is approximately \\( 13.02 \\)."
                  ],
                  [
                    "additional_kwargs",
                    {
                      "refusal": null
                    }
                  ],
                  [
                    "response_metadata",
                    {
                      "finish_reason": "stop",
                      "id": "chatcmpl-CEdpe267ELYcZ4yw90yNEXFWL9KhR",
                      "logprobs": null,
                      "model_name": "gpt-4o-mini-2024-07-18",
                      "service_tier": "default",
                      "system_fingerprint": "fp_8bda4d3a2c",
                      "token_usage": {
                        "completion_tokens": 26,
                        "completion_tokens_details": {
                          "accepted_prediction_tokens": 0,
                          "audio_tokens": 0,
                          "reasoning_tokens": 0,
                          "rejected_prediction_tokens": 0
                        },
                        "prompt_tokens": 221,
                        "prompt_tokens_details": {
                          "audio_tokens": 0,
                          "cached_tokens": 0
                        },
                        "total_tokens": 247
                      }
                    }
                  ],
                  [
                    "type",
                    "ai"
                  ],
                  [
                    "name",
                    null
                  ],
                  [
                    "id",
                    "run--9eee204d-3fdd-48f0-bc29-e1a1389034b8-0"
                  ],
                  [
                    "example",
                    false
                  ],
                  [
                    "tool_calls",
                    []
                  ],
                  [
                    "invalid_tool_calls",
                    []
                  ],
                  [
                    "usage_metadata",
                    {
                      "input_token_details": {
                        "audio": 0,
                        "cache_read": 0
                      },
                      "input_tokens": 221,
                      "output_token_details": {
                        "audio": 0,
                        "reasoning": 0
                      },
                      "output_tokens": 26,
                      "total_tokens": 247
                    }
                  ]
                ]
              ],
              "ops": [
                "(multiply, 3.1, 4.2),"
              ]
            },
            "text/plain": [
              "<IPython.core.display.JSON object>"
            ]
          },
          "execution_count": 12,
          "metadata": {
            "application/json": {
              "expanded": false,
              "root": "root"
            }
          },
          "output_type": "execute_result"
        }
      ],
      "source": [
        "# notice the ops field is now in the response\n",
        "JSON(result2)"
      ]
    },
    {
      "cell_type": "markdown",
      "id": "578f86a4-53b4-4814-9ee5-cb8919a1c9c4",
      "metadata": {
        "id": "578f86a4-53b4-4814-9ee5-cb8919a1c9c4"
      },
      "source": [
        "Let's try one more example. Notice the dual tool call in this example. The tool node will execute these in parallel."
      ]
    },
    {
      "cell_type": "code",
      "execution_count": null,
      "id": "9b15902d-064c-49fe-8266-c9cc5e895344",
      "metadata": {
        "id": "9b15902d-064c-49fe-8266-c9cc5e895344",
        "outputId": "6dc102ff-f2ae-424c-a2d0-bc5cf2b18309"
      },
      "outputs": [
        {
          "data": {
            "text/html": [
              "<pre style=\"white-space:pre;overflow-x:auto;line-height:normal;font-family:Menlo,'DejaVu Sans Mono',consolas,'Courier New',monospace\"><span style=\"color: #000080; text-decoration-color: #000080\">╭─────────────────────────────────────────────────── 🧑 Human ────────────────────────────────────────────────────╮</span>\n",
              "<span style=\"color: #000080; text-decoration-color: #000080\">│</span> What is 3.1 * 4.2 + 5.5 * 6.5?                                                                                  <span style=\"color: #000080; text-decoration-color: #000080\">│</span>\n",
              "<span style=\"color: #000080; text-decoration-color: #000080\">╰─────────────────────────────────────────────────────────────────────────────────────────────────────────────────╯</span>\n",
              "</pre>\n"
            ],
            "text/plain": [
              "\u001b[34m╭─\u001b[0m\u001b[34m──────────────────────────────────────────────────\u001b[0m\u001b[34m 🧑 Human \u001b[0m\u001b[34m───────────────────────────────────────────────────\u001b[0m\u001b[34m─╮\u001b[0m\n",
              "\u001b[34m│\u001b[0m What is 3.1 * 4.2 + 5.5 * 6.5?                                                                                  \u001b[34m│\u001b[0m\n",
              "\u001b[34m╰─────────────────────────────────────────────────────────────────────────────────────────────────────────────────╯\u001b[0m\n"
            ]
          },
          "metadata": {},
          "output_type": "display_data"
        },
        {
          "data": {
            "text/html": [
              "<pre style=\"white-space:pre;overflow-x:auto;line-height:normal;font-family:Menlo,'DejaVu Sans Mono',consolas,'Courier New',monospace\"><span style=\"color: #c0c0c0; text-decoration-color: #c0c0c0\">╭───────────────────────────────────────────────────── 📝 AI ─────────────────────────────────────────────────────╮</span>\n",
              "<span style=\"color: #c0c0c0; text-decoration-color: #c0c0c0\">│</span>                                                                                                                 <span style=\"color: #c0c0c0; text-decoration-color: #c0c0c0\">│</span>\n",
              "<span style=\"color: #c0c0c0; text-decoration-color: #c0c0c0\">│</span>                                                                                                                 <span style=\"color: #c0c0c0; text-decoration-color: #c0c0c0\">│</span>\n",
              "<span style=\"color: #c0c0c0; text-decoration-color: #c0c0c0\">│</span> 🔧 Tool Call: calculator_wstate                                                                                 <span style=\"color: #c0c0c0; text-decoration-color: #c0c0c0\">│</span>\n",
              "<span style=\"color: #c0c0c0; text-decoration-color: #c0c0c0\">│</span>    Args: {                                                                                                      <span style=\"color: #c0c0c0; text-decoration-color: #c0c0c0\">│</span>\n",
              "<span style=\"color: #c0c0c0; text-decoration-color: #c0c0c0\">│</span>   \"operation\": \"multiply\",                                                                                      <span style=\"color: #c0c0c0; text-decoration-color: #c0c0c0\">│</span>\n",
              "<span style=\"color: #c0c0c0; text-decoration-color: #c0c0c0\">│</span>   \"a\": 3.1,                                                                                                     <span style=\"color: #c0c0c0; text-decoration-color: #c0c0c0\">│</span>\n",
              "<span style=\"color: #c0c0c0; text-decoration-color: #c0c0c0\">│</span>   \"b\": 4.2                                                                                                      <span style=\"color: #c0c0c0; text-decoration-color: #c0c0c0\">│</span>\n",
              "<span style=\"color: #c0c0c0; text-decoration-color: #c0c0c0\">│</span> }                                                                                                               <span style=\"color: #c0c0c0; text-decoration-color: #c0c0c0\">│</span>\n",
              "<span style=\"color: #c0c0c0; text-decoration-color: #c0c0c0\">│</span>    ID: call_wXCEbA5bZujVeRQ4BJj3vcdR                                                                            <span style=\"color: #c0c0c0; text-decoration-color: #c0c0c0\">│</span>\n",
              "<span style=\"color: #c0c0c0; text-decoration-color: #c0c0c0\">│</span>                                                                                                                 <span style=\"color: #c0c0c0; text-decoration-color: #c0c0c0\">│</span>\n",
              "<span style=\"color: #c0c0c0; text-decoration-color: #c0c0c0\">│</span> 🔧 Tool Call: calculator_wstate                                                                                 <span style=\"color: #c0c0c0; text-decoration-color: #c0c0c0\">│</span>\n",
              "<span style=\"color: #c0c0c0; text-decoration-color: #c0c0c0\">│</span>    Args: {                                                                                                      <span style=\"color: #c0c0c0; text-decoration-color: #c0c0c0\">│</span>\n",
              "<span style=\"color: #c0c0c0; text-decoration-color: #c0c0c0\">│</span>   \"operation\": \"multiply\",                                                                                      <span style=\"color: #c0c0c0; text-decoration-color: #c0c0c0\">│</span>\n",
              "<span style=\"color: #c0c0c0; text-decoration-color: #c0c0c0\">│</span>   \"a\": 5.5,                                                                                                     <span style=\"color: #c0c0c0; text-decoration-color: #c0c0c0\">│</span>\n",
              "<span style=\"color: #c0c0c0; text-decoration-color: #c0c0c0\">│</span>   \"b\": 6.5                                                                                                      <span style=\"color: #c0c0c0; text-decoration-color: #c0c0c0\">│</span>\n",
              "<span style=\"color: #c0c0c0; text-decoration-color: #c0c0c0\">│</span> }                                                                                                               <span style=\"color: #c0c0c0; text-decoration-color: #c0c0c0\">│</span>\n",
              "<span style=\"color: #c0c0c0; text-decoration-color: #c0c0c0\">│</span>    ID: call_Mfnk4UZqKqrNf5T4uI5Cz9bv                                                                            <span style=\"color: #c0c0c0; text-decoration-color: #c0c0c0\">│</span>\n",
              "<span style=\"color: #c0c0c0; text-decoration-color: #c0c0c0\">╰─────────────────────────────────────────────────────────────────────────────────────────────────────────────────╯</span>\n",
              "</pre>\n"
            ],
            "text/plain": [
              "\u001b[37m╭─\u001b[0m\u001b[37m────────────────────────────────────────────────────\u001b[0m\u001b[37m 📝 AI \u001b[0m\u001b[37m────────────────────────────────────────────────────\u001b[0m\u001b[37m─╮\u001b[0m\n",
              "\u001b[37m│\u001b[0m                                                                                                                 \u001b[37m│\u001b[0m\n",
              "\u001b[37m│\u001b[0m                                                                                                                 \u001b[37m│\u001b[0m\n",
              "\u001b[37m│\u001b[0m 🔧 Tool Call: calculator_wstate                                                                                 \u001b[37m│\u001b[0m\n",
              "\u001b[37m│\u001b[0m    Args: {                                                                                                      \u001b[37m│\u001b[0m\n",
              "\u001b[37m│\u001b[0m   \"operation\": \"multiply\",                                                                                      \u001b[37m│\u001b[0m\n",
              "\u001b[37m│\u001b[0m   \"a\": 3.1,                                                                                                     \u001b[37m│\u001b[0m\n",
              "\u001b[37m│\u001b[0m   \"b\": 4.2                                                                                                      \u001b[37m│\u001b[0m\n",
              "\u001b[37m│\u001b[0m }                                                                                                               \u001b[37m│\u001b[0m\n",
              "\u001b[37m│\u001b[0m    ID: call_wXCEbA5bZujVeRQ4BJj3vcdR                                                                            \u001b[37m│\u001b[0m\n",
              "\u001b[37m│\u001b[0m                                                                                                                 \u001b[37m│\u001b[0m\n",
              "\u001b[37m│\u001b[0m 🔧 Tool Call: calculator_wstate                                                                                 \u001b[37m│\u001b[0m\n",
              "\u001b[37m│\u001b[0m    Args: {                                                                                                      \u001b[37m│\u001b[0m\n",
              "\u001b[37m│\u001b[0m   \"operation\": \"multiply\",                                                                                      \u001b[37m│\u001b[0m\n",
              "\u001b[37m│\u001b[0m   \"a\": 5.5,                                                                                                     \u001b[37m│\u001b[0m\n",
              "\u001b[37m│\u001b[0m   \"b\": 6.5                                                                                                      \u001b[37m│\u001b[0m\n",
              "\u001b[37m│\u001b[0m }                                                                                                               \u001b[37m│\u001b[0m\n",
              "\u001b[37m│\u001b[0m    ID: call_Mfnk4UZqKqrNf5T4uI5Cz9bv                                                                            \u001b[37m│\u001b[0m\n",
              "\u001b[37m╰─────────────────────────────────────────────────────────────────────────────────────────────────────────────────╯\u001b[0m\n"
            ]
          },
          "metadata": {},
          "output_type": "display_data"
        },
        {
          "data": {
            "text/html": [
              "<pre style=\"white-space:pre;overflow-x:auto;line-height:normal;font-family:Menlo,'DejaVu Sans Mono',consolas,'Courier New',monospace\"><span style=\"color: #808000; text-decoration-color: #808000\">╭──────────────────────────────────────────────── 🔧 Tool Output ─────────────────────────────────────────────────╮</span>\n",
              "<span style=\"color: #808000; text-decoration-color: #808000\">│</span> 13.020000000000001                                                                                              <span style=\"color: #808000; text-decoration-color: #808000\">│</span>\n",
              "<span style=\"color: #808000; text-decoration-color: #808000\">╰─────────────────────────────────────────────────────────────────────────────────────────────────────────────────╯</span>\n",
              "</pre>\n"
            ],
            "text/plain": [
              "\u001b[33m╭─\u001b[0m\u001b[33m───────────────────────────────────────────────\u001b[0m\u001b[33m 🔧 Tool Output \u001b[0m\u001b[33m────────────────────────────────────────────────\u001b[0m\u001b[33m─╮\u001b[0m\n",
              "\u001b[33m│\u001b[0m 13.020000000000001                                                                                              \u001b[33m│\u001b[0m\n",
              "\u001b[33m╰─────────────────────────────────────────────────────────────────────────────────────────────────────────────────╯\u001b[0m\n"
            ]
          },
          "metadata": {},
          "output_type": "display_data"
        },
        {
          "data": {
            "text/html": [
              "<pre style=\"white-space:pre;overflow-x:auto;line-height:normal;font-family:Menlo,'DejaVu Sans Mono',consolas,'Courier New',monospace\"><span style=\"color: #808000; text-decoration-color: #808000\">╭──────────────────────────────────────────────── 🔧 Tool Output ─────────────────────────────────────────────────╮</span>\n",
              "<span style=\"color: #808000; text-decoration-color: #808000\">│</span> 35.75                                                                                                           <span style=\"color: #808000; text-decoration-color: #808000\">│</span>\n",
              "<span style=\"color: #808000; text-decoration-color: #808000\">╰─────────────────────────────────────────────────────────────────────────────────────────────────────────────────╯</span>\n",
              "</pre>\n"
            ],
            "text/plain": [
              "\u001b[33m╭─\u001b[0m\u001b[33m───────────────────────────────────────────────\u001b[0m\u001b[33m 🔧 Tool Output \u001b[0m\u001b[33m────────────────────────────────────────────────\u001b[0m\u001b[33m─╮\u001b[0m\n",
              "\u001b[33m│\u001b[0m 35.75                                                                                                           \u001b[33m│\u001b[0m\n",
              "\u001b[33m╰─────────────────────────────────────────────────────────────────────────────────────────────────────────────────╯\u001b[0m\n"
            ]
          },
          "metadata": {},
          "output_type": "display_data"
        },
        {
          "data": {
            "text/html": [
              "<pre style=\"white-space:pre;overflow-x:auto;line-height:normal;font-family:Menlo,'DejaVu Sans Mono',consolas,'Courier New',monospace\"><span style=\"color: #c0c0c0; text-decoration-color: #c0c0c0\">╭───────────────────────────────────────────────────── 📝 AI ─────────────────────────────────────────────────────╮</span>\n",
              "<span style=\"color: #c0c0c0; text-decoration-color: #c0c0c0\">│</span>                                                                                                                 <span style=\"color: #c0c0c0; text-decoration-color: #c0c0c0\">│</span>\n",
              "<span style=\"color: #c0c0c0; text-decoration-color: #c0c0c0\">│</span>                                                                                                                 <span style=\"color: #c0c0c0; text-decoration-color: #c0c0c0\">│</span>\n",
              "<span style=\"color: #c0c0c0; text-decoration-color: #c0c0c0\">│</span> 🔧 Tool Call: calculator_wstate                                                                                 <span style=\"color: #c0c0c0; text-decoration-color: #c0c0c0\">│</span>\n",
              "<span style=\"color: #c0c0c0; text-decoration-color: #c0c0c0\">│</span>    Args: {                                                                                                      <span style=\"color: #c0c0c0; text-decoration-color: #c0c0c0\">│</span>\n",
              "<span style=\"color: #c0c0c0; text-decoration-color: #c0c0c0\">│</span>   \"operation\": \"add\",                                                                                           <span style=\"color: #c0c0c0; text-decoration-color: #c0c0c0\">│</span>\n",
              "<span style=\"color: #c0c0c0; text-decoration-color: #c0c0c0\">│</span>   \"a\": 13.020000000000001,                                                                                      <span style=\"color: #c0c0c0; text-decoration-color: #c0c0c0\">│</span>\n",
              "<span style=\"color: #c0c0c0; text-decoration-color: #c0c0c0\">│</span>   \"b\": 35.75                                                                                                    <span style=\"color: #c0c0c0; text-decoration-color: #c0c0c0\">│</span>\n",
              "<span style=\"color: #c0c0c0; text-decoration-color: #c0c0c0\">│</span> }                                                                                                               <span style=\"color: #c0c0c0; text-decoration-color: #c0c0c0\">│</span>\n",
              "<span style=\"color: #c0c0c0; text-decoration-color: #c0c0c0\">│</span>    ID: call_x6tlPJ7B6pLajZvToTuRSUVA                                                                            <span style=\"color: #c0c0c0; text-decoration-color: #c0c0c0\">│</span>\n",
              "<span style=\"color: #c0c0c0; text-decoration-color: #c0c0c0\">╰─────────────────────────────────────────────────────────────────────────────────────────────────────────────────╯</span>\n",
              "</pre>\n"
            ],
            "text/plain": [
              "\u001b[37m╭─\u001b[0m\u001b[37m────────────────────────────────────────────────────\u001b[0m\u001b[37m 📝 AI \u001b[0m\u001b[37m────────────────────────────────────────────────────\u001b[0m\u001b[37m─╮\u001b[0m\n",
              "\u001b[37m│\u001b[0m                                                                                                                 \u001b[37m│\u001b[0m\n",
              "\u001b[37m│\u001b[0m                                                                                                                 \u001b[37m│\u001b[0m\n",
              "\u001b[37m│\u001b[0m 🔧 Tool Call: calculator_wstate                                                                                 \u001b[37m│\u001b[0m\n",
              "\u001b[37m│\u001b[0m    Args: {                                                                                                      \u001b[37m│\u001b[0m\n",
              "\u001b[37m│\u001b[0m   \"operation\": \"add\",                                                                                           \u001b[37m│\u001b[0m\n",
              "\u001b[37m│\u001b[0m   \"a\": 13.020000000000001,                                                                                      \u001b[37m│\u001b[0m\n",
              "\u001b[37m│\u001b[0m   \"b\": 35.75                                                                                                    \u001b[37m│\u001b[0m\n",
              "\u001b[37m│\u001b[0m }                                                                                                               \u001b[37m│\u001b[0m\n",
              "\u001b[37m│\u001b[0m    ID: call_x6tlPJ7B6pLajZvToTuRSUVA                                                                            \u001b[37m│\u001b[0m\n",
              "\u001b[37m╰─────────────────────────────────────────────────────────────────────────────────────────────────────────────────╯\u001b[0m\n"
            ]
          },
          "metadata": {},
          "output_type": "display_data"
        },
        {
          "data": {
            "text/html": [
              "<pre style=\"white-space:pre;overflow-x:auto;line-height:normal;font-family:Menlo,'DejaVu Sans Mono',consolas,'Courier New',monospace\"><span style=\"color: #808000; text-decoration-color: #808000\">╭──────────────────────────────────────────────── 🔧 Tool Output ─────────────────────────────────────────────────╮</span>\n",
              "<span style=\"color: #808000; text-decoration-color: #808000\">│</span> 48.77                                                                                                           <span style=\"color: #808000; text-decoration-color: #808000\">│</span>\n",
              "<span style=\"color: #808000; text-decoration-color: #808000\">╰─────────────────────────────────────────────────────────────────────────────────────────────────────────────────╯</span>\n",
              "</pre>\n"
            ],
            "text/plain": [
              "\u001b[33m╭─\u001b[0m\u001b[33m───────────────────────────────────────────────\u001b[0m\u001b[33m 🔧 Tool Output \u001b[0m\u001b[33m────────────────────────────────────────────────\u001b[0m\u001b[33m─╮\u001b[0m\n",
              "\u001b[33m│\u001b[0m 48.77                                                                                                           \u001b[33m│\u001b[0m\n",
              "\u001b[33m╰─────────────────────────────────────────────────────────────────────────────────────────────────────────────────╯\u001b[0m\n"
            ]
          },
          "metadata": {},
          "output_type": "display_data"
        },
        {
          "data": {
            "text/html": [
              "<pre style=\"white-space:pre;overflow-x:auto;line-height:normal;font-family:Menlo,'DejaVu Sans Mono',consolas,'Courier New',monospace\"><span style=\"color: #c0c0c0; text-decoration-color: #c0c0c0\">╭───────────────────────────────────────────────────── 📝 AI ─────────────────────────────────────────────────────╮</span>\n",
              "<span style=\"color: #c0c0c0; text-decoration-color: #c0c0c0\">│</span> The result of \\( 3.1 \\times 4.2 + 5.5 \\times 6.5 \\) is \\( 48.77 \\).                                             <span style=\"color: #c0c0c0; text-decoration-color: #c0c0c0\">│</span>\n",
              "<span style=\"color: #c0c0c0; text-decoration-color: #c0c0c0\">╰─────────────────────────────────────────────────────────────────────────────────────────────────────────────────╯</span>\n",
              "</pre>\n"
            ],
            "text/plain": [
              "\u001b[37m╭─\u001b[0m\u001b[37m────────────────────────────────────────────────────\u001b[0m\u001b[37m 📝 AI \u001b[0m\u001b[37m────────────────────────────────────────────────────\u001b[0m\u001b[37m─╮\u001b[0m\n",
              "\u001b[37m│\u001b[0m The result of \\( 3.1 \\times 4.2 + 5.5 \\times 6.5 \\) is \\( 48.77 \\).                                             \u001b[37m│\u001b[0m\n",
              "\u001b[37m╰─────────────────────────────────────────────────────────────────────────────────────────────────────────────────╯\u001b[0m\n"
            ]
          },
          "metadata": {},
          "output_type": "display_data"
        }
      ],
      "source": [
        "# Example usage\n",
        "result3 = agent.invoke(\n",
        "    {\n",
        "        \"messages\": [\n",
        "            {\n",
        "                \"role\": \"user\",\n",
        "                \"content\": \"What is 3.1 * 4.2 + 5.5 * 6.5?\",\n",
        "            }\n",
        "        ],\n",
        "    }\n",
        ")\n",
        "\n",
        "format_messages(result3[\"messages\"])"
      ]
    },
    {
      "cell_type": "code",
      "execution_count": null,
      "id": "eddba925-7132-4972-94d2-33e21c15ed45",
      "metadata": {
        "id": "eddba925-7132-4972-94d2-33e21c15ed45",
        "outputId": "2a8321cb-a90d-41f0-8613-0dacdd78468c"
      },
      "outputs": [
        {
          "data": {
            "application/json": {
              "messages": [
                [
                  [
                    "content",
                    "What is 3.1 * 4.2 + 5.5 * 6.5?"
                  ],
                  [
                    "additional_kwargs",
                    {}
                  ],
                  [
                    "response_metadata",
                    {}
                  ],
                  [
                    "type",
                    "human"
                  ],
                  [
                    "name",
                    null
                  ],
                  [
                    "id",
                    "156afba7-57b6-4841-ade8-095d54991354"
                  ],
                  [
                    "example",
                    false
                  ]
                ],
                [
                  [
                    "content",
                    ""
                  ],
                  [
                    "additional_kwargs",
                    {
                      "refusal": null,
                      "tool_calls": [
                        {
                          "function": {
                            "arguments": "{\"operation\": \"multiply\", \"a\": 3.1, \"b\": 4.2}",
                            "name": "calculator_wstate"
                          },
                          "id": "call_wXCEbA5bZujVeRQ4BJj3vcdR",
                          "type": "function"
                        },
                        {
                          "function": {
                            "arguments": "{\"operation\": \"multiply\", \"a\": 5.5, \"b\": 6.5}",
                            "name": "calculator_wstate"
                          },
                          "id": "call_Mfnk4UZqKqrNf5T4uI5Cz9bv",
                          "type": "function"
                        }
                      ]
                    }
                  ],
                  [
                    "response_metadata",
                    {
                      "finish_reason": "tool_calls",
                      "id": "chatcmpl-CEdpgausRCWugVx0pXIl0vPJGvE69",
                      "logprobs": null,
                      "model_name": "gpt-4o-mini-2024-07-18",
                      "service_tier": "default",
                      "system_fingerprint": "fp_8bda4d3a2c",
                      "token_usage": {
                        "completion_tokens": 72,
                        "completion_tokens_details": {
                          "accepted_prediction_tokens": 0,
                          "audio_tokens": 0,
                          "reasoning_tokens": 0,
                          "rejected_prediction_tokens": 0
                        },
                        "prompt_tokens": 187,
                        "prompt_tokens_details": {
                          "audio_tokens": 0,
                          "cached_tokens": 0
                        },
                        "total_tokens": 259
                      }
                    }
                  ],
                  [
                    "type",
                    "ai"
                  ],
                  [
                    "name",
                    null
                  ],
                  [
                    "id",
                    "run--4f3c00ed-5657-4c2a-95b4-bf3de709ff07-0"
                  ],
                  [
                    "example",
                    false
                  ],
                  [
                    "tool_calls",
                    [
                      {
                        "args": {
                          "a": 3.1,
                          "b": 4.2,
                          "operation": "multiply"
                        },
                        "id": "call_wXCEbA5bZujVeRQ4BJj3vcdR",
                        "name": "calculator_wstate",
                        "type": "tool_call"
                      },
                      {
                        "args": {
                          "a": 5.5,
                          "b": 6.5,
                          "operation": "multiply"
                        },
                        "id": "call_Mfnk4UZqKqrNf5T4uI5Cz9bv",
                        "name": "calculator_wstate",
                        "type": "tool_call"
                      }
                    ]
                  ],
                  [
                    "invalid_tool_calls",
                    []
                  ],
                  [
                    "usage_metadata",
                    {
                      "input_token_details": {
                        "audio": 0,
                        "cache_read": 0
                      },
                      "input_tokens": 187,
                      "output_token_details": {
                        "audio": 0,
                        "reasoning": 0
                      },
                      "output_tokens": 72,
                      "total_tokens": 259
                    }
                  ]
                ],
                [
                  [
                    "content",
                    "13.020000000000001"
                  ],
                  [
                    "additional_kwargs",
                    {}
                  ],
                  [
                    "response_metadata",
                    {}
                  ],
                  [
                    "type",
                    "tool"
                  ],
                  [
                    "name",
                    "calculator_wstate"
                  ],
                  [
                    "id",
                    "fc9bd76e-3826-4af3-a76f-0129ffaff2c9"
                  ],
                  [
                    "tool_call_id",
                    "call_wXCEbA5bZujVeRQ4BJj3vcdR"
                  ],
                  [
                    "artifact",
                    null
                  ],
                  [
                    "status",
                    "success"
                  ]
                ],
                [
                  [
                    "content",
                    "35.75"
                  ],
                  [
                    "additional_kwargs",
                    {}
                  ],
                  [
                    "response_metadata",
                    {}
                  ],
                  [
                    "type",
                    "tool"
                  ],
                  [
                    "name",
                    "calculator_wstate"
                  ],
                  [
                    "id",
                    "a27f25fb-75ee-4108-98f0-691c237938c1"
                  ],
                  [
                    "tool_call_id",
                    "call_Mfnk4UZqKqrNf5T4uI5Cz9bv"
                  ],
                  [
                    "artifact",
                    null
                  ],
                  [
                    "status",
                    "success"
                  ]
                ],
                [
                  [
                    "content",
                    ""
                  ],
                  [
                    "additional_kwargs",
                    {
                      "refusal": null,
                      "tool_calls": [
                        {
                          "function": {
                            "arguments": "{\"operation\":\"add\",\"a\":13.020000000000001,\"b\":35.75}",
                            "name": "calculator_wstate"
                          },
                          "id": "call_x6tlPJ7B6pLajZvToTuRSUVA",
                          "type": "function"
                        }
                      ]
                    }
                  ],
                  [
                    "response_metadata",
                    {
                      "finish_reason": "tool_calls",
                      "id": "chatcmpl-CEdphTXgSbhBpmSAYa9HYRuzl6dtP",
                      "logprobs": null,
                      "model_name": "gpt-4o-mini-2024-07-18",
                      "service_tier": "default",
                      "system_fingerprint": "fp_8bda4d3a2c",
                      "token_usage": {
                        "completion_tokens": 32,
                        "completion_tokens_details": {
                          "accepted_prediction_tokens": 0,
                          "audio_tokens": 0,
                          "reasoning_tokens": 0,
                          "rejected_prediction_tokens": 0
                        },
                        "prompt_tokens": 283,
                        "prompt_tokens_details": {
                          "audio_tokens": 0,
                          "cached_tokens": 0
                        },
                        "total_tokens": 315
                      }
                    }
                  ],
                  [
                    "type",
                    "ai"
                  ],
                  [
                    "name",
                    null
                  ],
                  [
                    "id",
                    "run--93fcfaf8-d6ba-4160-919c-ae7a6b7f20c6-0"
                  ],
                  [
                    "example",
                    false
                  ],
                  [
                    "tool_calls",
                    [
                      {
                        "args": {
                          "a": 13.020000000000001,
                          "b": 35.75,
                          "operation": "add"
                        },
                        "id": "call_x6tlPJ7B6pLajZvToTuRSUVA",
                        "name": "calculator_wstate",
                        "type": "tool_call"
                      }
                    ]
                  ],
                  [
                    "invalid_tool_calls",
                    []
                  ],
                  [
                    "usage_metadata",
                    {
                      "input_token_details": {
                        "audio": 0,
                        "cache_read": 0
                      },
                      "input_tokens": 283,
                      "output_token_details": {
                        "audio": 0,
                        "reasoning": 0
                      },
                      "output_tokens": 32,
                      "total_tokens": 315
                    }
                  ]
                ],
                [
                  [
                    "content",
                    "48.77"
                  ],
                  [
                    "additional_kwargs",
                    {}
                  ],
                  [
                    "response_metadata",
                    {}
                  ],
                  [
                    "type",
                    "tool"
                  ],
                  [
                    "name",
                    "calculator_wstate"
                  ],
                  [
                    "id",
                    "80b7eeab-b88f-4328-8d9f-a13edb6cddf4"
                  ],
                  [
                    "tool_call_id",
                    "call_x6tlPJ7B6pLajZvToTuRSUVA"
                  ],
                  [
                    "artifact",
                    null
                  ],
                  [
                    "status",
                    "success"
                  ]
                ],
                [
                  [
                    "content",
                    "The result of \\( 3.1 \\times 4.2 + 5.5 \\times 6.5 \\) is \\( 48.77 \\)."
                  ],
                  [
                    "additional_kwargs",
                    {
                      "refusal": null
                    }
                  ],
                  [
                    "response_metadata",
                    {
                      "finish_reason": "stop",
                      "id": "chatcmpl-CEdpiY7smYDwy5FW1pMhb0Pm00FlP",
                      "logprobs": null,
                      "model_name": "gpt-4o-mini-2024-07-18",
                      "service_tier": "default",
                      "system_fingerprint": "fp_8bda4d3a2c",
                      "token_usage": {
                        "completion_tokens": 36,
                        "completion_tokens_details": {
                          "accepted_prediction_tokens": 0,
                          "audio_tokens": 0,
                          "reasoning_tokens": 0,
                          "rejected_prediction_tokens": 0
                        },
                        "prompt_tokens": 327,
                        "prompt_tokens_details": {
                          "audio_tokens": 0,
                          "cached_tokens": 0
                        },
                        "total_tokens": 363
                      }
                    }
                  ],
                  [
                    "type",
                    "ai"
                  ],
                  [
                    "name",
                    null
                  ],
                  [
                    "id",
                    "run--a2d8cdcd-c532-4202-b054-269775d43bc2-0"
                  ],
                  [
                    "example",
                    false
                  ],
                  [
                    "tool_calls",
                    []
                  ],
                  [
                    "invalid_tool_calls",
                    []
                  ],
                  [
                    "usage_metadata",
                    {
                      "input_token_details": {
                        "audio": 0,
                        "cache_read": 0
                      },
                      "input_tokens": 327,
                      "output_token_details": {
                        "audio": 0,
                        "reasoning": 0
                      },
                      "output_tokens": 36,
                      "total_tokens": 363
                    }
                  ]
                ]
              ],
              "ops": [
                "(multiply, 3.1, 4.2),",
                "(multiply, 5.5, 6.5),",
                "(add, 13.020000000000001, 35.75),"
              ]
            },
            "text/plain": [
              "<IPython.core.display.JSON object>"
            ]
          },
          "execution_count": 14,
          "metadata": {
            "application/json": {
              "expanded": false,
              "root": "root"
            }
          },
          "output_type": "execute_result"
        }
      ],
      "source": [
        "JSON(result3)"
      ]
    },
    {
      "cell_type": "code",
      "execution_count": null,
      "id": "f48168b8-54bb-4b72-a494-dccbdbf2c16a",
      "metadata": {
        "id": "f48168b8-54bb-4b72-a494-dccbdbf2c16a"
      },
      "outputs": [],
      "source": [
        "# Example usage - create your own\n",
        "result4 = agent.invoke(\n",
        "    {\n",
        "        \"messages\": [\n",
        "            {\n",
        "                \"role\": \"user\",\n",
        "                \"content\": \"Create an example of your own?\",\n",
        "            }\n",
        "        ],\n",
        "    }\n",
        ")\n",
        "\n",
        "format_messages(result4[\"messages\"])"
      ]
    },
    {
      "cell_type": "markdown",
      "id": "9d93063f-9625-4667-b9d8-407b1103d4f9",
      "metadata": {
        "id": "9d93063f-9625-4667-b9d8-407b1103d4f9"
      },
      "source": [
        "## <span style=\"font-size:0.8em;\">🪝</span> Hooks and structured responses"
      ]
    },
    {
      "cell_type": "markdown",
      "id": "234cce2b-7124-4933-8c34-9b5a409b4683",
      "metadata": {
        "id": "234cce2b-7124-4933-8c34-9b5a409b4683"
      },
      "source": [
        "<table>\n",
        "<tr>\n",
        "<td style=\"width:300px;\">\n",
        "  <img src=\"https://github.com/langchain-ai/deep-agents-from-scratch/blob/main/notebooks/assets/complex_agent.png?raw=1\" style=\"max-width:100%; height:auto;\">\n",
        "</td>\n",
        "<td>\n",
        "  <code>create_react_agent</code> has many additional capabilities.  \n",
        "  The course will not be using them so we will just describe them here and save exploring them to another course.\n",
        "\n",
        "  - For reference, the `create_react_agent` call definition is [here](https://langchain-ai.github.io/langgraph/reference/agents/#:~:text=of%20the%20agent.-,create_react_agent,-%C2%B6)\n",
        "\n",
        "  - pre-hook: This inserts a node prior to the agent node. It will have access to `state`. This is often used to manage messages by summarizing or compressing. See more [here](https://langchain-ai.github.io/langgraph/how-tos/create-react-agent-manage-message-history/#keep-the-original-message-history-unmodified:~:text=to%20the%20LLM.-,def%20pre_model_hook(state)%3A,-trimmed_messages%20%3D%20trim_messages))\n",
        "  - post-hook: This inserts a node following the LLM call, prior to the tool call. This is useful for implementing human-in-the-loop, guardrails, validation, or other post-processing\n",
        "  - response_format: This adds a node before `END`. This will call and LLM.with_structured_output and the output will be formatted to match the given schema and returned in the 'structured_response' state key.\n",
        "</td>\n",
        "</tr>\n",
        "</table>\n",
        "\n",
        ""
      ]
    },
    {
      "cell_type": "markdown",
      "id": "a2c2dab8-2156-4c1f-87c6-5773f841cbe3",
      "metadata": {
        "id": "a2c2dab8-2156-4c1f-87c6-5773f841cbe3"
      },
      "source": []
    },
    {
      "cell_type": "code",
      "execution_count": null,
      "id": "6f1c57dd-a9cc-4e8d-9555-9eb414fb9151",
      "metadata": {
        "id": "6f1c57dd-a9cc-4e8d-9555-9eb414fb9151"
      },
      "outputs": [],
      "source": []
    }
  ],
  "metadata": {
    "kernelspec": {
      "display_name": "Python 3 (ipykernel)",
      "language": "python",
      "name": "python3"
    },
    "language_info": {
      "codemirror_mode": {
        "name": "ipython",
        "version": 3
      },
      "file_extension": ".py",
      "mimetype": "text/x-python",
      "name": "python",
      "nbconvert_exporter": "python",
      "pygments_lexer": "ipython3",
      "version": "3.13.5"
    },
    "colab": {
      "provenance": []
    }
  },
  "nbformat": 4,
  "nbformat_minor": 5
}